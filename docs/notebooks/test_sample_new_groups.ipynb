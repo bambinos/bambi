{
 "cells": [
  {
   "attachments": {},
   "cell_type": "markdown",
   "metadata": {},
   "source": [
    "**NOTE** This notebook is not part of the documentation. It's not meant to be in the webpage. It's something I wrote when I was testing the new functionality and I think it's nice to have it handy."
   ]
  },
  {
   "cell_type": "code",
   "execution_count": 1,
   "metadata": {},
   "outputs": [],
   "source": [
    "import bambi as bmb\n",
    "import matplotlib.pyplot as plt\n",
    "import numpy as np\n",
    "import pandas as pd"
   ]
  },
  {
   "cell_type": "code",
   "execution_count": 2,
   "metadata": {},
   "outputs": [],
   "source": [
    "data = bmb.load_data(\"sleepstudy\")"
   ]
  },
  {
   "cell_type": "code",
   "execution_count": 3,
   "metadata": {},
   "outputs": [
    {
     "data": {
      "text/html": [
       "<div>\n",
       "<style scoped>\n",
       "    .dataframe tbody tr th:only-of-type {\n",
       "        vertical-align: middle;\n",
       "    }\n",
       "\n",
       "    .dataframe tbody tr th {\n",
       "        vertical-align: top;\n",
       "    }\n",
       "\n",
       "    .dataframe thead th {\n",
       "        text-align: right;\n",
       "    }\n",
       "</style>\n",
       "<table border=\"1\" class=\"dataframe\">\n",
       "  <thead>\n",
       "    <tr style=\"text-align: right;\">\n",
       "      <th></th>\n",
       "      <th>Reaction</th>\n",
       "      <th>Days</th>\n",
       "      <th>Subject</th>\n",
       "    </tr>\n",
       "  </thead>\n",
       "  <tbody>\n",
       "    <tr>\n",
       "      <th>0</th>\n",
       "      <td>249.5600</td>\n",
       "      <td>0</td>\n",
       "      <td>308</td>\n",
       "    </tr>\n",
       "    <tr>\n",
       "      <th>1</th>\n",
       "      <td>258.7047</td>\n",
       "      <td>1</td>\n",
       "      <td>308</td>\n",
       "    </tr>\n",
       "    <tr>\n",
       "      <th>2</th>\n",
       "      <td>250.8006</td>\n",
       "      <td>2</td>\n",
       "      <td>308</td>\n",
       "    </tr>\n",
       "    <tr>\n",
       "      <th>3</th>\n",
       "      <td>321.4398</td>\n",
       "      <td>3</td>\n",
       "      <td>308</td>\n",
       "    </tr>\n",
       "    <tr>\n",
       "      <th>4</th>\n",
       "      <td>356.8519</td>\n",
       "      <td>4</td>\n",
       "      <td>308</td>\n",
       "    </tr>\n",
       "  </tbody>\n",
       "</table>\n",
       "</div>"
      ],
      "text/plain": [
       "   Reaction  Days  Subject\n",
       "0  249.5600     0      308\n",
       "1  258.7047     1      308\n",
       "2  250.8006     2      308\n",
       "3  321.4398     3      308\n",
       "4  356.8519     4      308"
      ]
     },
     "execution_count": 3,
     "metadata": {},
     "output_type": "execute_result"
    }
   ],
   "source": [
    "data.head()"
   ]
  },
  {
   "cell_type": "code",
   "execution_count": 4,
   "metadata": {},
   "outputs": [
    {
     "data": {
      "text/plain": [
       "       Formula: Reaction ~ 1 + Days + (1 + Days | Subject)\n",
       "        Family: gaussian\n",
       "          Link: mu = identity\n",
       "  Observations: 180\n",
       "        Priors: \n",
       "    target = mu\n",
       "        Common-level effects\n",
       "            Intercept ~ Normal(mu: 298.5079, sigma: 261.0092)\n",
       "            Days ~ Normal(mu: 0.0, sigma: 48.8915)\n",
       "        \n",
       "        Group-level effects\n",
       "            1|Subject ~ Normal(mu: 0.0, sigma: HalfNormal(sigma: 261.0092))\n",
       "            Days|Subject ~ Normal(mu: 0.0, sigma: HalfNormal(sigma: 48.8915))\n",
       "        \n",
       "        Auxiliary parameters\n",
       "            sigma ~ HalfStudentT(nu: 4.0, sigma: 56.1721)"
      ]
     },
     "execution_count": 4,
     "metadata": {},
     "output_type": "execute_result"
    }
   ],
   "source": [
    "model = bmb.Model(\"Reaction ~ 1 + Days + (1 + Days | Subject)\", data)\n",
    "model"
   ]
  },
  {
   "cell_type": "code",
   "execution_count": 5,
   "metadata": {},
   "outputs": [
    {
     "name": "stderr",
     "output_type": "stream",
     "text": [
      "Initializing NUTS using jitter+adapt_diag...\n",
      "Multiprocess sampling (4 chains in 4 jobs)\n",
      "NUTS: [sigma, Intercept, Days, 1|Subject_sigma, 1|Subject_offset, Days|Subject_sigma, Days|Subject_offset]\n"
     ]
    },
    {
     "data": {
      "application/vnd.jupyter.widget-view+json": {
       "model_id": "862019c9e33b4cf18f6acc16c95cd34e",
       "version_major": 2,
       "version_minor": 0
      },
      "text/plain": [
       "Output()"
      ]
     },
     "metadata": {},
     "output_type": "display_data"
    },
    {
     "data": {
      "text/html": [
       "<pre style=\"white-space:pre;overflow-x:auto;line-height:normal;font-family:Menlo,'DejaVu Sans Mono',consolas,'Courier New',monospace\"></pre>\n"
      ],
      "text/plain": []
     },
     "metadata": {},
     "output_type": "display_data"
    },
    {
     "name": "stderr",
     "output_type": "stream",
     "text": [
      "Sampling 4 chains for 1_000 tune and 1_000 draw iterations (4_000 + 4_000 draws total) took 5 seconds.\n"
     ]
    }
   ],
   "source": [
    "idata = model.fit()"
   ]
  },
  {
   "cell_type": "code",
   "execution_count": 6,
   "metadata": {},
   "outputs": [
    {
     "data": {
      "text/html": [
       "<div>\n",
       "<style scoped>\n",
       "    .dataframe tbody tr th:only-of-type {\n",
       "        vertical-align: middle;\n",
       "    }\n",
       "\n",
       "    .dataframe tbody tr th {\n",
       "        vertical-align: top;\n",
       "    }\n",
       "\n",
       "    .dataframe thead th {\n",
       "        text-align: right;\n",
       "    }\n",
       "</style>\n",
       "<table border=\"1\" class=\"dataframe\">\n",
       "  <thead>\n",
       "    <tr style=\"text-align: right;\">\n",
       "      <th></th>\n",
       "      <th>Reaction</th>\n",
       "      <th>Days</th>\n",
       "      <th>Subject</th>\n",
       "    </tr>\n",
       "  </thead>\n",
       "  <tbody>\n",
       "    <tr>\n",
       "      <th>0</th>\n",
       "      <td>249.5600</td>\n",
       "      <td>0</td>\n",
       "      <td>xxx</td>\n",
       "    </tr>\n",
       "    <tr>\n",
       "      <th>1</th>\n",
       "      <td>258.7047</td>\n",
       "      <td>1</td>\n",
       "      <td>xxx</td>\n",
       "    </tr>\n",
       "    <tr>\n",
       "      <th>2</th>\n",
       "      <td>250.8006</td>\n",
       "      <td>2</td>\n",
       "      <td>xxx</td>\n",
       "    </tr>\n",
       "    <tr>\n",
       "      <th>3</th>\n",
       "      <td>321.4398</td>\n",
       "      <td>3</td>\n",
       "      <td>xxx</td>\n",
       "    </tr>\n",
       "    <tr>\n",
       "      <th>4</th>\n",
       "      <td>356.8519</td>\n",
       "      <td>4</td>\n",
       "      <td>xxx</td>\n",
       "    </tr>\n",
       "    <tr>\n",
       "      <th>5</th>\n",
       "      <td>414.6901</td>\n",
       "      <td>5</td>\n",
       "      <td>xxx</td>\n",
       "    </tr>\n",
       "    <tr>\n",
       "      <th>6</th>\n",
       "      <td>382.2038</td>\n",
       "      <td>6</td>\n",
       "      <td>xxx</td>\n",
       "    </tr>\n",
       "    <tr>\n",
       "      <th>7</th>\n",
       "      <td>290.1486</td>\n",
       "      <td>7</td>\n",
       "      <td>xxx</td>\n",
       "    </tr>\n",
       "    <tr>\n",
       "      <th>8</th>\n",
       "      <td>430.5853</td>\n",
       "      <td>8</td>\n",
       "      <td>xxx</td>\n",
       "    </tr>\n",
       "    <tr>\n",
       "      <th>9</th>\n",
       "      <td>466.3535</td>\n",
       "      <td>9</td>\n",
       "      <td>xxx</td>\n",
       "    </tr>\n",
       "    <tr>\n",
       "      <th>10</th>\n",
       "      <td>249.5600</td>\n",
       "      <td>0</td>\n",
       "      <td>308</td>\n",
       "    </tr>\n",
       "    <tr>\n",
       "      <th>11</th>\n",
       "      <td>258.7047</td>\n",
       "      <td>1</td>\n",
       "      <td>308</td>\n",
       "    </tr>\n",
       "    <tr>\n",
       "      <th>12</th>\n",
       "      <td>250.8006</td>\n",
       "      <td>2</td>\n",
       "      <td>308</td>\n",
       "    </tr>\n",
       "    <tr>\n",
       "      <th>13</th>\n",
       "      <td>321.4398</td>\n",
       "      <td>3</td>\n",
       "      <td>308</td>\n",
       "    </tr>\n",
       "    <tr>\n",
       "      <th>14</th>\n",
       "      <td>356.8519</td>\n",
       "      <td>4</td>\n",
       "      <td>308</td>\n",
       "    </tr>\n",
       "    <tr>\n",
       "      <th>15</th>\n",
       "      <td>414.6901</td>\n",
       "      <td>5</td>\n",
       "      <td>308</td>\n",
       "    </tr>\n",
       "    <tr>\n",
       "      <th>16</th>\n",
       "      <td>382.2038</td>\n",
       "      <td>6</td>\n",
       "      <td>308</td>\n",
       "    </tr>\n",
       "    <tr>\n",
       "      <th>17</th>\n",
       "      <td>290.1486</td>\n",
       "      <td>7</td>\n",
       "      <td>308</td>\n",
       "    </tr>\n",
       "    <tr>\n",
       "      <th>18</th>\n",
       "      <td>430.5853</td>\n",
       "      <td>8</td>\n",
       "      <td>308</td>\n",
       "    </tr>\n",
       "    <tr>\n",
       "      <th>19</th>\n",
       "      <td>466.3535</td>\n",
       "      <td>9</td>\n",
       "      <td>308</td>\n",
       "    </tr>\n",
       "  </tbody>\n",
       "</table>\n",
       "</div>"
      ],
      "text/plain": [
       "    Reaction  Days Subject\n",
       "0   249.5600     0     xxx\n",
       "1   258.7047     1     xxx\n",
       "2   250.8006     2     xxx\n",
       "3   321.4398     3     xxx\n",
       "4   356.8519     4     xxx\n",
       "5   414.6901     5     xxx\n",
       "6   382.2038     6     xxx\n",
       "7   290.1486     7     xxx\n",
       "8   430.5853     8     xxx\n",
       "9   466.3535     9     xxx\n",
       "10  249.5600     0     308\n",
       "11  258.7047     1     308\n",
       "12  250.8006     2     308\n",
       "13  321.4398     3     308\n",
       "14  356.8519     4     308\n",
       "15  414.6901     5     308\n",
       "16  382.2038     6     308\n",
       "17  290.1486     7     308\n",
       "18  430.5853     8     308\n",
       "19  466.3535     9     308"
      ]
     },
     "execution_count": 6,
     "metadata": {},
     "output_type": "execute_result"
    }
   ],
   "source": [
    "df_new = data.head(10).reset_index(drop=True)\n",
    "df_new[\"Subject\"] = \"xxx\"\n",
    "df_new = pd.concat([df_new, data.head(10)])\n",
    "df_new = df_new.reset_index(drop=True)\n",
    "df_new"
   ]
  },
  {
   "cell_type": "code",
   "execution_count": 9,
   "metadata": {},
   "outputs": [],
   "source": [
    "p = model.predict(idata, data=df_new, inplace=False, sample_new_groups=True)\n",
    "\n",
    "reaction_draws = p.posterior[\"mu\"]\n",
    "mean = reaction_draws.mean((\"chain\", \"draw\")).to_numpy()\n",
    "bounds = reaction_draws.quantile((0.025, 0.975), (\"chain\", \"draw\")).to_numpy()"
   ]
  },
  {
   "cell_type": "code",
   "execution_count": 10,
   "metadata": {},
   "outputs": [
    {
     "data": {
      "image/png": "[encoded data removed]",
      "text/plain": [
       "<Figure size 1000x400 with 2 Axes>"
      ]
     },
     "metadata": {},
     "output_type": "display_data"
    }
   ],
   "source": [
    "fig, axes = plt.subplots(1, 2, figsize=(10, 4), sharey=True)\n",
    "\n",
    "axes[0].scatter(df_new.iloc[10:][\"Days\"], df_new.iloc[10:][\"Reaction\"])\n",
    "axes[1].scatter(df_new.iloc[:10][\"Days\"], df_new.iloc[:10][\"Reaction\"])\n",
    "\n",
    "axes[0].fill_between(np.arange(10), bounds[0, 10:], bounds[1, 10:], alpha=0.5, color=\"C0\")\n",
    "axes[1].fill_between(np.arange(10), bounds[0, :10], bounds[1, :10], alpha=0.5, color=\"C0\")\n",
    "\n",
    "axes[0].set_title(\"Original participant\")\n",
    "axes[1].set_title(\"New participant\");"
   ]
  },
  {
   "attachments": {},
   "cell_type": "markdown",
   "metadata": {},
   "source": [
    "---"
   ]
  },
  {
   "cell_type": "code",
   "execution_count": 12,
   "metadata": {},
   "outputs": [
    {
     "data": {
      "text/html": [
       "<div>\n",
       "<style scoped>\n",
       "    .dataframe tbody tr th:only-of-type {\n",
       "        vertical-align: middle;\n",
       "    }\n",
       "\n",
       "    .dataframe tbody tr th {\n",
       "        vertical-align: top;\n",
       "    }\n",
       "\n",
       "    .dataframe thead th {\n",
       "        text-align: right;\n",
       "    }\n",
       "</style>\n",
       "<table border=\"1\" class=\"dataframe\">\n",
       "  <thead>\n",
       "    <tr style=\"text-align: right;\">\n",
       "      <th></th>\n",
       "      <th>Unnamed: 0</th>\n",
       "      <th>subj</th>\n",
       "      <th>item</th>\n",
       "      <th>site</th>\n",
       "      <th>Y</th>\n",
       "      <th>continuous</th>\n",
       "      <th>dummy</th>\n",
       "      <th>threecats</th>\n",
       "    </tr>\n",
       "  </thead>\n",
       "  <tbody>\n",
       "    <tr>\n",
       "      <th>0</th>\n",
       "      <td>0</td>\n",
       "      <td>0</td>\n",
       "      <td>0</td>\n",
       "      <td>0</td>\n",
       "      <td>0.276766</td>\n",
       "      <td>0.929616</td>\n",
       "      <td>0</td>\n",
       "      <td>a</td>\n",
       "    </tr>\n",
       "    <tr>\n",
       "      <th>1</th>\n",
       "      <td>1</td>\n",
       "      <td>1</td>\n",
       "      <td>0</td>\n",
       "      <td>0</td>\n",
       "      <td>-0.058104</td>\n",
       "      <td>0.008388</td>\n",
       "      <td>0</td>\n",
       "      <td>a</td>\n",
       "    </tr>\n",
       "    <tr>\n",
       "      <th>2</th>\n",
       "      <td>2</td>\n",
       "      <td>2</td>\n",
       "      <td>0</td>\n",
       "      <td>1</td>\n",
       "      <td>-6.847861</td>\n",
       "      <td>0.439645</td>\n",
       "      <td>0</td>\n",
       "      <td>a</td>\n",
       "    </tr>\n",
       "    <tr>\n",
       "      <th>3</th>\n",
       "      <td>3</td>\n",
       "      <td>3</td>\n",
       "      <td>0</td>\n",
       "      <td>1</td>\n",
       "      <td>12.474619</td>\n",
       "      <td>0.596366</td>\n",
       "      <td>0</td>\n",
       "      <td>a</td>\n",
       "    </tr>\n",
       "    <tr>\n",
       "      <th>4</th>\n",
       "      <td>4</td>\n",
       "      <td>4</td>\n",
       "      <td>0</td>\n",
       "      <td>2</td>\n",
       "      <td>-0.426047</td>\n",
       "      <td>0.709510</td>\n",
       "      <td>0</td>\n",
       "      <td>a</td>\n",
       "    </tr>\n",
       "  </tbody>\n",
       "</table>\n",
       "</div>"
      ],
      "text/plain": [
       "   Unnamed: 0 subj  item  site          Y  continuous  dummy threecats\n",
       "0           0    0     0     0   0.276766    0.929616      0         a\n",
       "1           1    1     0     0  -0.058104    0.008388      0         a\n",
       "2           2    2     0     1  -6.847861    0.439645      0         a\n",
       "3           3    3     0     1  12.474619    0.596366      0         a\n",
       "4           4    4     0     2  -0.426047    0.709510      0         a"
      ]
     },
     "execution_count": 12,
     "metadata": {},
     "output_type": "execute_result"
    }
   ],
   "source": [
    "data = pd.read_csv(\"../../tests/data/crossed_random.csv\")\n",
    "data[\"subj\"] = data[\"subj\"].astype(str)\n",
    "data.head()"
   ]
  },
  {
   "cell_type": "code",
   "execution_count": 13,
   "metadata": {},
   "outputs": [
    {
     "data": {
      "text/plain": [
       "       Formula: Y ~ 0 + threecats + (0 + threecats | subj)\n",
       "        Family: gaussian\n",
       "          Link: mu = identity\n",
       "  Observations: 120\n",
       "        Priors: \n",
       "    target = mu\n",
       "        Common-level effects\n",
       "            threecats ~ Normal(mu: [0. 0. 0.], sigma: [31.1617 31.1617 31.1617])\n",
       "        \n",
       "        Group-level effects\n",
       "            threecats|subj ~ Normal(mu: 0.0, sigma: HalfNormal(sigma: [31.1617 31.1617 31.1617]))\n",
       "        \n",
       "        Auxiliary parameters\n",
       "            sigma ~ HalfStudentT(nu: 4.0, sigma: 5.8759)"
      ]
     },
     "execution_count": 13,
     "metadata": {},
     "output_type": "execute_result"
    }
   ],
   "source": [
    "formula = \"Y ~ 0 + threecats + (0 + threecats | subj)\"\n",
    "model = bmb.Model(formula, data)\n",
    "model"
   ]
  },
  {
   "cell_type": "code",
   "execution_count": 14,
   "metadata": {},
   "outputs": [
    {
     "name": "stderr",
     "output_type": "stream",
     "text": [
      "Initializing NUTS using jitter+adapt_diag...\n",
      "Multiprocess sampling (4 chains in 4 jobs)\n",
      "NUTS: [sigma, threecats, threecats|subj_sigma, threecats|subj_offset]\n"
     ]
    },
    {
     "data": {
      "application/vnd.jupyter.widget-view+json": {
       "model_id": "8a60022ea97640dc99517601576a288e",
       "version_major": 2,
       "version_minor": 0
      },
      "text/plain": [
       "Output()"
      ]
     },
     "metadata": {},
     "output_type": "display_data"
    },
    {
     "data": {
      "text/html": [
       "<pre style=\"white-space:pre;overflow-x:auto;line-height:normal;font-family:Menlo,'DejaVu Sans Mono',consolas,'Courier New',monospace\"></pre>\n"
      ],
      "text/plain": []
     },
     "metadata": {},
     "output_type": "display_data"
    },
    {
     "name": "stderr",
     "output_type": "stream",
     "text": [
      "Sampling 4 chains for 1_000 tune and 1_000 draw iterations (4_000 + 4_000 draws total) took 4 seconds.\n",
      "There was 1 divergence after tuning. Increase `target_accept` or reparameterize.\n"
     ]
    }
   ],
   "source": [
    "idata = model.fit()"
   ]
  },
  {
   "cell_type": "code",
   "execution_count": 15,
   "metadata": {},
   "outputs": [
    {
     "data": {
      "text/html": [
       "<div>\n",
       "<style scoped>\n",
       "    .dataframe tbody tr th:only-of-type {\n",
       "        vertical-align: middle;\n",
       "    }\n",
       "\n",
       "    .dataframe tbody tr th {\n",
       "        vertical-align: top;\n",
       "    }\n",
       "\n",
       "    .dataframe thead th {\n",
       "        text-align: right;\n",
       "    }\n",
       "</style>\n",
       "<table border=\"1\" class=\"dataframe\">\n",
       "  <thead>\n",
       "    <tr style=\"text-align: right;\">\n",
       "      <th></th>\n",
       "      <th>threecats</th>\n",
       "      <th>subj</th>\n",
       "    </tr>\n",
       "  </thead>\n",
       "  <tbody>\n",
       "    <tr>\n",
       "      <th>0</th>\n",
       "      <td>a</td>\n",
       "      <td>0</td>\n",
       "    </tr>\n",
       "    <tr>\n",
       "      <th>1</th>\n",
       "      <td>a</td>\n",
       "      <td>11</td>\n",
       "    </tr>\n",
       "  </tbody>\n",
       "</table>\n",
       "</div>"
      ],
      "text/plain": [
       "  threecats subj\n",
       "0         a    0\n",
       "1         a   11"
      ]
     },
     "execution_count": 15,
     "metadata": {},
     "output_type": "execute_result"
    }
   ],
   "source": [
    "new_data = pd.DataFrame(\n",
    "    {\n",
    "        \"threecats\": [\"a\", \"a\"],\n",
    "        \"subj\": [\"0\", \"11\"]\n",
    "    }\n",
    ")\n",
    "new_data"
   ]
  },
  {
   "cell_type": "code",
   "execution_count": 16,
   "metadata": {},
   "outputs": [],
   "source": [
    "p1 = model.predict(idata, data=new_data, inplace=False, sample_new_groups=True)"
   ]
  },
  {
   "cell_type": "code",
   "execution_count": 21,
   "metadata": {},
   "outputs": [
    {
     "data": {
      "image/png": "[encoded data removed]",
      "text/plain": [
       "<Figure size 700x900 with 2 Axes>"
      ]
     },
     "metadata": {},
     "output_type": "display_data"
    }
   ],
   "source": [
    "fig, axes = plt.subplots(2, 1, figsize=(7, 9), sharex=True)\n",
    "\n",
    "y1_grs = p1.posterior[\"mu\"].sel(__obs__=0).to_numpy().flatten()\n",
    "y2_grs = p1.posterior[\"mu\"].sel(__obs__=1).to_numpy().flatten()\n",
    "\n",
    "axes[0].hist(y1_grs, bins=20);\n",
    "axes[1].hist(y2_grs, bins=20);"
   ]
  },
  {
   "attachments": {},
   "cell_type": "markdown",
   "metadata": {},
   "source": [
    "---"
   ]
  },
  {
   "cell_type": "code",
   "execution_count": 22,
   "metadata": {},
   "outputs": [
    {
     "ename": "AssertionError",
     "evalue": "Could not broadcast dimensions. Broadcasting is only allowed along axes that have a statically known length 1. Use `specify_broadcastable` to inform PyTensor of a known shape.\nApply node that caused the error: Assert{msg='Could not broadcast dimensi...'}(rating_reduced_dim, ScalarFromTensor.0)\nToposort index: 2\nInputs types: [TensorType(int64, shape=()), ScalarType(bool)]\nInputs shapes: [(), ()]\nInputs strides: [(), ()]\nInputs values: [array(3), np.False_]\nOutputs clients: [[MakeVector{dtype='int64'}(subject__factor_dim, treat__expr_dim, Assert{msg='Could not broadcast dimensi...'}.0)]]\n\nHINT: Re-running with most PyTensor optimizations disabled could provide a back-trace showing when this node was created. This can be done by setting the PyTensor flag 'optimizer=fast_compile'. If that does not work, PyTensor optimizations can be disabled with 'optimizer=None'.\nHINT: Use the PyTensor flag `exception_verbosity=high` for a debug print-out and storage map footprint of this Apply node.",
     "output_type": "error",
     "traceback": [
      "\u001b[31m---------------------------------------------------------------------------\u001b[39m",
      "\u001b[31mAssertionError\u001b[39m                            Traceback (most recent call last)",
      "\u001b[36mFile \u001b[39m\u001b[32m~/oss/bambinos/bambi/.pixi/envs/dev/lib/python3.13/site-packages/pytensor/compile/function/types.py:1039\u001b[39m, in \u001b[36mFunction.__call__\u001b[39m\u001b[34m(self, output_subset, *args, **kwargs)\u001b[39m\n\u001b[32m   1038\u001b[39m \u001b[38;5;28;01mtry\u001b[39;00m:\n\u001b[32m-> \u001b[39m\u001b[32m1039\u001b[39m     outputs = \u001b[43mvm\u001b[49m\u001b[43m(\u001b[49m\u001b[43m)\u001b[49m \u001b[38;5;28;01mif\u001b[39;00m output_subset \u001b[38;5;129;01mis\u001b[39;00m \u001b[38;5;28;01mNone\u001b[39;00m \u001b[38;5;28;01melse\u001b[39;00m vm(output_subset=output_subset)\n\u001b[32m   1040\u001b[39m \u001b[38;5;28;01mexcept\u001b[39;00m \u001b[38;5;167;01mException\u001b[39;00m:\n",
      "\u001b[31mAssertionError\u001b[39m: Could not broadcast dimensions. Broadcasting is only allowed along axes that have a statically known length 1. Use `specify_broadcastable` to inform PyTensor of a known shape.",
      "\nDuring handling of the above exception, another exception occurred:\n",
      "\u001b[31mAssertionError\u001b[39m                            Traceback (most recent call last)",
      "\u001b[36mCell\u001b[39m\u001b[36m \u001b[39m\u001b[32mIn[22]\u001b[39m\u001b[32m, line 8\u001b[39m\n\u001b[32m      3\u001b[39m inhaler[\u001b[33m\"\u001b[39m\u001b[33mtreat\u001b[39m\u001b[33m\"\u001b[39m] = pd.Categorical(inhaler[\u001b[33m\"\u001b[39m\u001b[33mtreat\u001b[39m\u001b[33m\"\u001b[39m])\n\u001b[32m      5\u001b[39m model = bmb.Model(\n\u001b[32m      6\u001b[39m     \u001b[33m\"\u001b[39m\u001b[33mrating ~ 1 + period + treat + (1 + treat|subject)\u001b[39m\u001b[33m\"\u001b[39m, inhaler, family=\u001b[33m\"\u001b[39m\u001b[33mcategorical\u001b[39m\u001b[33m\"\u001b[39m\n\u001b[32m      7\u001b[39m )\n\u001b[32m----> \u001b[39m\u001b[32m8\u001b[39m idata = \u001b[43mmodel\u001b[49m\u001b[43m.\u001b[49m\u001b[43mfit\u001b[49m\u001b[43m(\u001b[49m\u001b[43mtune\u001b[49m\u001b[43m=\u001b[49m\u001b[32;43m200\u001b[39;49m\u001b[43m,\u001b[49m\u001b[43m \u001b[49m\u001b[43mdraws\u001b[49m\u001b[43m=\u001b[49m\u001b[32;43m200\u001b[39;49m\u001b[43m)\u001b[49m\n",
      "\u001b[36mFile \u001b[39m\u001b[32m~/oss/bambinos/bambi/bambi/models.py:327\u001b[39m, in \u001b[36mModel.fit\u001b[39m\u001b[34m(self, draws, tune, discard_tuned_samples, omit_offsets, include_mean, include_response_params, inference_method, init, n_init, chains, cores, random_seed, **kwargs)\u001b[39m\n\u001b[32m    324\u001b[39m         inference_method = method\n\u001b[32m    326\u001b[39m \u001b[38;5;28;01mif\u001b[39;00m \u001b[38;5;129;01mnot\u001b[39;00m \u001b[38;5;28mself\u001b[39m.built:\n\u001b[32m--> \u001b[39m\u001b[32m327\u001b[39m     \u001b[38;5;28;43mself\u001b[39;49m\u001b[43m.\u001b[49m\u001b[43mbuild\u001b[49m\u001b[43m(\u001b[49m\u001b[43m)\u001b[49m\n\u001b[32m    329\u001b[39m \u001b[38;5;66;03m# Tell user which event is being modeled\u001b[39;00m\n\u001b[32m    330\u001b[39m \u001b[38;5;28;01mif\u001b[39;00m \u001b[38;5;28misinstance\u001b[39m(\u001b[38;5;28mself\u001b[39m.family, univariate.Bernoulli):\n",
      "\u001b[36mFile \u001b[39m\u001b[32m~/oss/bambinos/bambi/bambi/models.py:366\u001b[39m, in \u001b[36mModel.build\u001b[39m\u001b[34m(self)\u001b[39m\n\u001b[32m    361\u001b[39m \u001b[38;5;250m\u001b[39m\u001b[33;03m\"\"\"Set up the model for sampling/fitting\u001b[39;00m\n\u001b[32m    362\u001b[39m \n\u001b[32m    363\u001b[39m \u001b[33;03mCreates an instance of the underlying PyMC model and adds all the necessary terms to it.\u001b[39;00m\n\u001b[32m    364\u001b[39m \u001b[33;03m\"\"\"\u001b[39;00m\n\u001b[32m    365\u001b[39m \u001b[38;5;28mself\u001b[39m.backend = PyMCModel()\n\u001b[32m--> \u001b[39m\u001b[32m366\u001b[39m \u001b[38;5;28;43mself\u001b[39;49m\u001b[43m.\u001b[49m\u001b[43mbackend\u001b[49m\u001b[43m.\u001b[49m\u001b[43mbuild\u001b[49m\u001b[43m(\u001b[49m\u001b[38;5;28;43mself\u001b[39;49m\u001b[43m)\u001b[49m\n\u001b[32m    367\u001b[39m \u001b[38;5;28mself\u001b[39m.built = \u001b[38;5;28;01mTrue\u001b[39;00m\n",
      "\u001b[36mFile \u001b[39m\u001b[32m~/oss/bambinos/bambi/bambi/backend/pymc.py:94\u001b[39m, in \u001b[36mPyMCModel.build\u001b[39m\u001b[34m(self, spec)\u001b[39m\n\u001b[32m     92\u001b[39m \u001b[38;5;28;01mfor\u001b[39;00m name, component \u001b[38;5;129;01min\u001b[39;00m spec.distributional_components.items():\n\u001b[32m     93\u001b[39m     \u001b[38;5;28mself\u001b[39m.components[name] = DistributionalComponent(component)\n\u001b[32m---> \u001b[39m\u001b[32m94\u001b[39m     \u001b[38;5;28;43mself\u001b[39;49m\u001b[43m.\u001b[49m\u001b[43mcomponents\u001b[49m\u001b[43m[\u001b[49m\u001b[43mname\u001b[49m\u001b[43m]\u001b[49m\u001b[43m.\u001b[49m\u001b[43mbuild\u001b[49m\u001b[43m(\u001b[49m\u001b[38;5;28;43mself\u001b[39;49m\u001b[43m,\u001b[49m\u001b[43m \u001b[49m\u001b[43mspec\u001b[49m\u001b[43m)\u001b[49m\n\u001b[32m     96\u001b[39m \u001b[38;5;66;03m# Add response\u001b[39;00m\n\u001b[32m     97\u001b[39m \u001b[38;5;28mself\u001b[39m.response_component = ResponseComponent(spec.response_component)\n",
      "\u001b[36mFile \u001b[39m\u001b[32m~/oss/bambinos/bambi/bambi/backend/model_components.py:57\u001b[39m, in \u001b[36mDistributionalComponent.build\u001b[39m\u001b[34m(self, pymc_backend, bmb_model)\u001b[39m\n\u001b[32m     55\u001b[39m \u001b[38;5;28mself\u001b[39m.build_common_terms(pymc_backend, bmb_model)\n\u001b[32m     56\u001b[39m \u001b[38;5;28mself\u001b[39m.build_hsgp_terms(bmb_model, pymc_backend)\n\u001b[32m---> \u001b[39m\u001b[32m57\u001b[39m \u001b[38;5;28;43mself\u001b[39;49m\u001b[43m.\u001b[49m\u001b[43mbuild_group_specific_terms\u001b[49m\u001b[43m(\u001b[49m\u001b[43mpymc_backend\u001b[49m\u001b[43m,\u001b[49m\u001b[43m \u001b[49m\u001b[43mbmb_model\u001b[49m\u001b[43m)\u001b[49m\n",
      "\u001b[36mFile \u001b[39m\u001b[32m~/oss/bambinos/bambi/bambi/backend/model_components.py:141\u001b[39m, in \u001b[36mDistributionalComponent.build_group_specific_terms\u001b[39m\u001b[34m(self, pymc_backend, bmb_model)\u001b[39m\n\u001b[32m    138\u001b[39m         pymc_backend.model.add_coords({name: values})\n\u001b[32m    140\u001b[39m \u001b[38;5;66;03m# Build\u001b[39;00m\n\u001b[32m--> \u001b[39m\u001b[32m141\u001b[39m coef, predictor = \u001b[43mgroup_specific_term\u001b[49m\u001b[43m.\u001b[49m\u001b[43mbuild\u001b[49m\u001b[43m(\u001b[49m\u001b[43mbmb_model\u001b[49m\u001b[43m)\u001b[49m\n\u001b[32m    143\u001b[39m \u001b[38;5;66;03m# Add to the linear predictor\u001b[39;00m\n\u001b[32m    144\u001b[39m \u001b[38;5;66;03m# The loop through predictor columns is not the most beautiful alternative.\u001b[39;00m\n\u001b[32m    145\u001b[39m \u001b[38;5;66;03m# But it's the fastest. Doing matrix multiplication, pm.math.dot(data, coef), is slower.\u001b[39;00m\n\u001b[32m    146\u001b[39m \u001b[38;5;28;01mif\u001b[39;00m predictor.ndim > \u001b[32m1\u001b[39m:\n",
      "\u001b[36mFile \u001b[39m\u001b[32m~/oss/bambinos/bambi/bambi/backend/terms.py:117\u001b[39m, in \u001b[36mGroupSpecificTerm.build\u001b[39m\u001b[34m(self, spec)\u001b[39m\n\u001b[32m    112\u001b[39m coef = \u001b[38;5;28mself\u001b[39m.build_distribution(\u001b[38;5;28mself\u001b[39m.term.prior, label, dims=dims, **kwargs)\n\u001b[32m    114\u001b[39m \u001b[38;5;66;03m# Squeeze ensures we don't have a shape of (n, 1) when we mean (n, )\u001b[39;00m\n\u001b[32m    115\u001b[39m \u001b[38;5;66;03m# This happens with categorical predictors with two levels and intercept.\u001b[39;00m\n\u001b[32m    116\u001b[39m \u001b[38;5;66;03m# See https://github.com/pymc-devs/pymc/issues/7246\u001b[39;00m\n\u001b[32m--> \u001b[39m\u001b[32m117\u001b[39m \u001b[38;5;28;01mif\u001b[39;00m \u001b[38;5;28mlen\u001b[39m(\u001b[43mcoef\u001b[49m\u001b[43m.\u001b[49m\u001b[43mshape\u001b[49m\u001b[43m.\u001b[49m\u001b[43meval\u001b[49m\u001b[43m(\u001b[49m\u001b[43m)\u001b[49m) == \u001b[32m2\u001b[39m \u001b[38;5;129;01mand\u001b[39;00m coef.shape.eval()[-\u001b[32m1\u001b[39m] == \u001b[32m1\u001b[39m:\n\u001b[32m    118\u001b[39m     coef = pt.specify_broadcastable(coef, \u001b[32m1\u001b[39m).squeeze()\n\u001b[32m    119\u001b[39m coef = coef[\u001b[38;5;28mself\u001b[39m.term.group_index]\n",
      "\u001b[36mFile \u001b[39m\u001b[32m~/oss/bambinos/bambi/.pixi/envs/dev/lib/python3.13/site-packages/pytensor/graph/basic.py:662\u001b[39m, in \u001b[36mVariable.eval\u001b[39m\u001b[34m(self, inputs_to_values, **kwargs)\u001b[39m\n\u001b[32m    656\u001b[39m         warnings.warn(\n\u001b[32m    657\u001b[39m             \u001b[33m\"\u001b[39m\u001b[33mKeyword arguments could not be used to create a cache key for the underlying variable. \u001b[39m\u001b[33m\"\u001b[39m\n\u001b[32m    658\u001b[39m             \u001b[33mf\u001b[39m\u001b[33m\"\u001b[39m\u001b[33mA function will be recompiled on every call with such keyword arguments.\u001b[39m\u001b[38;5;130;01m\\n\u001b[39;00m\u001b[38;5;132;01m{\u001b[39;00mexc\u001b[38;5;132;01m}\u001b[39;00m\u001b[33m\"\u001b[39m\n\u001b[32m    659\u001b[39m         )\n\u001b[32m    661\u001b[39m args = [parsed_inputs_to_values[param] \u001b[38;5;28;01mfor\u001b[39;00m param \u001b[38;5;129;01min\u001b[39;00m inputs]\n\u001b[32m--> \u001b[39m\u001b[32m662\u001b[39m \u001b[38;5;28;01mreturn\u001b[39;00m \u001b[43mfn\u001b[49m\u001b[43m(\u001b[49m\u001b[43m*\u001b[49m\u001b[43margs\u001b[49m\u001b[43m)\u001b[49m\n",
      "\u001b[36mFile \u001b[39m\u001b[32m~/oss/bambinos/bambi/.pixi/envs/dev/lib/python3.13/site-packages/pytensor/compile/function/types.py:1049\u001b[39m, in \u001b[36mFunction.__call__\u001b[39m\u001b[34m(self, output_subset, *args, **kwargs)\u001b[39m\n\u001b[32m   1047\u001b[39m     \u001b[38;5;28;01mif\u001b[39;00m \u001b[38;5;28mhasattr\u001b[39m(\u001b[38;5;28mself\u001b[39m.vm, \u001b[33m\"\u001b[39m\u001b[33mthunks\u001b[39m\u001b[33m\"\u001b[39m):\n\u001b[32m   1048\u001b[39m         thunk = \u001b[38;5;28mself\u001b[39m.vm.thunks[\u001b[38;5;28mself\u001b[39m.vm.position_of_error]\n\u001b[32m-> \u001b[39m\u001b[32m1049\u001b[39m     \u001b[43mraise_with_op\u001b[49m\u001b[43m(\u001b[49m\n\u001b[32m   1050\u001b[39m \u001b[43m        \u001b[49m\u001b[38;5;28;43mself\u001b[39;49m\u001b[43m.\u001b[49m\u001b[43mmaker\u001b[49m\u001b[43m.\u001b[49m\u001b[43mfgraph\u001b[49m\u001b[43m,\u001b[49m\n\u001b[32m   1051\u001b[39m \u001b[43m        \u001b[49m\u001b[43mnode\u001b[49m\u001b[43m=\u001b[49m\u001b[38;5;28;43mself\u001b[39;49m\u001b[43m.\u001b[49m\u001b[43mvm\u001b[49m\u001b[43m.\u001b[49m\u001b[43mnodes\u001b[49m\u001b[43m[\u001b[49m\u001b[38;5;28;43mself\u001b[39;49m\u001b[43m.\u001b[49m\u001b[43mvm\u001b[49m\u001b[43m.\u001b[49m\u001b[43mposition_of_error\u001b[49m\u001b[43m]\u001b[49m\u001b[43m,\u001b[49m\n\u001b[32m   1052\u001b[39m \u001b[43m        \u001b[49m\u001b[43mthunk\u001b[49m\u001b[43m=\u001b[49m\u001b[43mthunk\u001b[49m\u001b[43m,\u001b[49m\n\u001b[32m   1053\u001b[39m \u001b[43m        \u001b[49m\u001b[43mstorage_map\u001b[49m\u001b[43m=\u001b[49m\u001b[38;5;28;43mgetattr\u001b[39;49m\u001b[43m(\u001b[49m\u001b[38;5;28;43mself\u001b[39;49m\u001b[43m.\u001b[49m\u001b[43mvm\u001b[49m\u001b[43m,\u001b[49m\u001b[43m \u001b[49m\u001b[33;43m\"\u001b[39;49m\u001b[33;43mstorage_map\u001b[39;49m\u001b[33;43m\"\u001b[39;49m\u001b[43m,\u001b[49m\u001b[43m \u001b[49m\u001b[38;5;28;43;01mNone\u001b[39;49;00m\u001b[43m)\u001b[49m\u001b[43m,\u001b[49m\n\u001b[32m   1054\u001b[39m \u001b[43m    \u001b[49m\u001b[43m)\u001b[49m\n\u001b[32m   1055\u001b[39m \u001b[38;5;28;01melse\u001b[39;00m:\n\u001b[32m   1056\u001b[39m     \u001b[38;5;66;03m# old-style linkers raise their own exceptions\u001b[39;00m\n\u001b[32m   1057\u001b[39m     \u001b[38;5;28;01mraise\u001b[39;00m\n",
      "\u001b[36mFile \u001b[39m\u001b[32m~/oss/bambinos/bambi/.pixi/envs/dev/lib/python3.13/site-packages/pytensor/link/utils.py:526\u001b[39m, in \u001b[36mraise_with_op\u001b[39m\u001b[34m(fgraph, node, thunk, exc_info, storage_map)\u001b[39m\n\u001b[32m    521\u001b[39m     warnings.warn(\n\u001b[32m    522\u001b[39m         \u001b[33mf\u001b[39m\u001b[33m\"\u001b[39m\u001b[38;5;132;01m{\u001b[39;00mexc_type\u001b[38;5;132;01m}\u001b[39;00m\u001b[33m error does not allow us to add an extra error message\u001b[39m\u001b[33m\"\u001b[39m\n\u001b[32m    523\u001b[39m     )\n\u001b[32m    524\u001b[39m     \u001b[38;5;66;03m# Some exception need extra parameter in inputs. So forget the\u001b[39;00m\n\u001b[32m    525\u001b[39m     \u001b[38;5;66;03m# extra long error message in that case.\u001b[39;00m\n\u001b[32m--> \u001b[39m\u001b[32m526\u001b[39m \u001b[38;5;28;01mraise\u001b[39;00m exc_value.with_traceback(exc_trace)\n",
      "\u001b[36mFile \u001b[39m\u001b[32m~/oss/bambinos/bambi/.pixi/envs/dev/lib/python3.13/site-packages/pytensor/compile/function/types.py:1039\u001b[39m, in \u001b[36mFunction.__call__\u001b[39m\u001b[34m(self, output_subset, *args, **kwargs)\u001b[39m\n\u001b[32m   1037\u001b[39m     t0_fn = time.perf_counter()\n\u001b[32m   1038\u001b[39m \u001b[38;5;28;01mtry\u001b[39;00m:\n\u001b[32m-> \u001b[39m\u001b[32m1039\u001b[39m     outputs = \u001b[43mvm\u001b[49m\u001b[43m(\u001b[49m\u001b[43m)\u001b[49m \u001b[38;5;28;01mif\u001b[39;00m output_subset \u001b[38;5;129;01mis\u001b[39;00m \u001b[38;5;28;01mNone\u001b[39;00m \u001b[38;5;28;01melse\u001b[39;00m vm(output_subset=output_subset)\n\u001b[32m   1040\u001b[39m \u001b[38;5;28;01mexcept\u001b[39;00m \u001b[38;5;167;01mException\u001b[39;00m:\n\u001b[32m   1041\u001b[39m     \u001b[38;5;28mself\u001b[39m._restore_defaults()\n",
      "\u001b[31mAssertionError\u001b[39m: Could not broadcast dimensions. Broadcasting is only allowed along axes that have a statically known length 1. Use `specify_broadcastable` to inform PyTensor of a known shape.\nApply node that caused the error: Assert{msg='Could not broadcast dimensi...'}(rating_reduced_dim, ScalarFromTensor.0)\nToposort index: 2\nInputs types: [TensorType(int64, shape=()), ScalarType(bool)]\nInputs shapes: [(), ()]\nInputs strides: [(), ()]\nInputs values: [array(3), np.False_]\nOutputs clients: [[MakeVector{dtype='int64'}(subject__factor_dim, treat__expr_dim, Assert{msg='Could not broadcast dimensi...'}.0)]]\n\nHINT: Re-running with most PyTensor optimizations disabled could provide a back-trace showing when this node was created. This can be done by setting the PyTensor flag 'optimizer=fast_compile'. If that does not work, PyTensor optimizations can be disabled with 'optimizer=None'.\nHINT: Use the PyTensor flag `exception_verbosity=high` for a debug print-out and storage map footprint of this Apply node."
     ]
    }
   ],
   "source": [
    "inhaler = pd.read_csv(\"../../tests/data/inhaler.csv\")\n",
    "inhaler[\"rating\"] = pd.Categorical(inhaler[\"rating\"], categories=[1, 2, 3, 4])\n",
    "inhaler[\"treat\"] = pd.Categorical(inhaler[\"treat\"])\n",
    "\n",
    "model = bmb.Model(\n",
    "    \"rating ~ 1 + period + treat + (1 + treat|subject)\", inhaler, family=\"categorical\"\n",
    ")\n",
    "idata = model.fit(tune=200, draws=200)"
   ]
  },
  {
   "cell_type": "code",
   "execution_count": null,
   "metadata": {},
   "outputs": [
    {
     "data": {
      "text/html": [
       "<div>\n",
       "<style scoped>\n",
       "    .dataframe tbody tr th:only-of-type {\n",
       "        vertical-align: middle;\n",
       "    }\n",
       "\n",
       "    .dataframe tbody tr th {\n",
       "        vertical-align: top;\n",
       "    }\n",
       "\n",
       "    .dataframe thead th {\n",
       "        text-align: right;\n",
       "    }\n",
       "</style>\n",
       "<table border=\"1\" class=\"dataframe\">\n",
       "  <thead>\n",
       "    <tr style=\"text-align: right;\">\n",
       "      <th></th>\n",
       "      <th>subject</th>\n",
       "      <th>rating</th>\n",
       "      <th>treat</th>\n",
       "      <th>period</th>\n",
       "      <th>carry</th>\n",
       "    </tr>\n",
       "  </thead>\n",
       "  <tbody>\n",
       "    <tr>\n",
       "      <th>0</th>\n",
       "      <td>1</td>\n",
       "      <td>1</td>\n",
       "      <td>0.5</td>\n",
       "      <td>0.5</td>\n",
       "      <td>0</td>\n",
       "    </tr>\n",
       "    <tr>\n",
       "      <th>1</th>\n",
       "      <td>999</td>\n",
       "      <td>1</td>\n",
       "      <td>0.5</td>\n",
       "      <td>0.5</td>\n",
       "      <td>0</td>\n",
       "    </tr>\n",
       "  </tbody>\n",
       "</table>\n",
       "</div>"
      ],
      "text/plain": [
       "   subject rating treat  period  carry\n",
       "0        1      1   0.5     0.5      0\n",
       "1      999      1   0.5     0.5      0"
      ]
     },
     "execution_count": 16,
     "metadata": {},
     "output_type": "execute_result"
    }
   ],
   "source": [
    "df_new = inhaler.head(2).reset_index(drop=True)\n",
    "df_new[\"subject\"] = [1, 999]\n",
    "df_new"
   ]
  },
  {
   "cell_type": "code",
   "execution_count": 17,
   "metadata": {},
   "outputs": [],
   "source": [
    "p = model.predict(idata, data=df_new, inplace=False, sample_new_groups=True)"
   ]
  },
  {
   "cell_type": "code",
   "execution_count": null,
   "metadata": {},
   "outputs": [
    {
     "data": {
      "image/png": "[encoded data removed]",
      "text/plain": [
       "<Figure size 1200x900 with 4 Axes>"
      ]
     },
     "metadata": {},
     "output_type": "display_data"
    }
   ],
   "source": [
    "fig, axes = plt.subplots(2, 2, figsize=(12, 9))\n",
    "bins = np.linspace(0, 1, 20)\n",
    "\n",
    "for i, ax in enumerate(axes.ravel()):\n",
    "    x = p.posterior[\"p\"].sel({\"rating_dim\": f'{i + 1}'}).to_numpy()\n",
    "    ax.hist(x[..., 0].flatten(), bins=bins, histtype=\"step\", color=\"C0\")\n",
    "    ax.hist(x[..., 1].flatten(), bins=bins, histtype=\"step\", color=\"C1\")"
   ]
  }
 ],
 "metadata": {
  "kernelspec": {
   "display_name": "dev",
   "language": "python",
   "name": "python3"
  },
  "language_info": {
   "codemirror_mode": {
    "name": "ipython",
    "version": 3
   },
   "file_extension": ".py",
   "mimetype": "text/x-python",
   "name": "python",
   "nbconvert_exporter": "python",
   "pygments_lexer": "ipython3",
   "version": "3.13.7"
  },
  "orig_nbformat": 4
 },
 "nbformat": 4,
 "nbformat_minor": 2
}
