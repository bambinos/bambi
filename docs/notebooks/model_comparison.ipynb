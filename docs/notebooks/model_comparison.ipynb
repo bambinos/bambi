{
 "cells": [
  {
   "cell_type": "markdown",
   "metadata": {},
   "source": [
    "# Logistic Regression and Model Comparison with Bambi and ArviZ\n",
    "\n",
    "## Adults dataset\n",
    "\n",
    "The [adults dataset](http://archive.ics.uci.edu/ml/datasets/Adult) is comprised of census data from 1994 in United States.  \n",
    "The goal is to use demographic variables to predict whether an individual makes more than $50,000 per year. \n",
    "\n",
    "The following is a description of the variables in the dataset.\n",
    "\n",
    "* **age**: Individual's age\n",
    "* **workclass**: Labor class.\n",
    "* **fnlwgt**: It is not specified, but we guess it is a final sampling weight.\n",
    "* **education**: Education level as a categorical variable.\n",
    "* **educational_num**: Education level as numerical variable. It does not reflect years of education.\n",
    "* **marital_status**: Marital status.\n",
    "* **occupation**: Occupation.\n",
    "* **relationship**: Relationship with the head of household.\n",
    "* **race**: Individual's race.\n",
    "* **sex**: Individual's sex.\n",
    "* **capital_gain**: Capital gain during unspecified period of time.\n",
    "* **capital_loss**: Capital loss during unspecified period of time.\n",
    "* **hs_week**: Hours of work per week.\n",
    "* **native_country**: Country of birth.\n",
    "* **income**: Income as a binary variable (either below or above 50K per year).\n",
    "\n",
    "We are only using the following variables in this example: **income**, **sex**, **race**, **age**, and **hs_week**. This subset is comprised of both categorical and numerical variables which allows us to visualize how to incorporate both types in a logistic regression model while helping to keep the analysis simpler."
   ]
  },
  {
   "cell_type": "code",
   "execution_count": null,
   "metadata": {},
   "outputs": [],
   "source": [
    "import arviz as az\n",
    "import bambi as bmb\n",
    "import matplotlib.pyplot as plt\n",
    "import matplotlib.lines as mlines\n",
    "import numpy as np\n",
    "import pandas as pd\n",
    "import warnings"
   ]
  },
  {
   "cell_type": "code",
   "execution_count": null,
   "metadata": {},
   "outputs": [],
   "source": [
    "# Disable a FutureWarning in ArviZ at the moment of running the notebook\n",
    "az.style.use(\"arviz-darkgrid\")\n",
    "warnings.simplefilter(action='ignore', category=FutureWarning)"
   ]
  },
  {
   "cell_type": "code",
   "execution_count": null,
   "metadata": {},
   "outputs": [],
   "source": [
    "data = bmb.load_data(\"adults\")\n",
    "data.info()\n",
    "data.head()"
   ]
  },
  {
   "cell_type": "markdown",
   "metadata": {},
   "source": [
    "Categorical variables are presented as from type `object`. In this step we convert them to `category`."
   ]
  },
  {
   "cell_type": "code",
   "execution_count": null,
   "metadata": {},
   "outputs": [],
   "source": [
    "categorical_cols = data.columns[data.dtypes == object].tolist()\n",
    "for col in categorical_cols:\n",
    "    data[col] = data[col].astype(\"category\")\n",
    "data.info()"
   ]
  },
  {
   "cell_type": "markdown",
   "metadata": {},
   "source": [
    "Instead of going straight to fitting models, we're going to do a some exploratory analysis of the variables in the dataset. First we have some plots, and then some conclusions about the information in the plots."
   ]
  },
  {
   "cell_type": "code",
   "execution_count": null,
   "metadata": {},
   "outputs": [],
   "source": [
    "# Just a utilitary function to truncate labels and avoid overlapping in plots\n",
    "def truncate_labels(ticklabels, width=8):\n",
    "    def truncate(label, width):\n",
    "        if len(label) > width - 3:\n",
    "            return label[0 : (width - 4)] + \"...\"\n",
    "        else:\n",
    "            return label\n",
    "\n",
    "    labels = [x.get_text() for x in ticklabels]\n",
    "    labels = [truncate(lbl, width) for lbl in labels]\n",
    "\n",
    "    return labels"
   ]
  },
  {
   "cell_type": "code",
   "execution_count": null,
   "metadata": {},
   "outputs": [],
   "source": [
    "def plot_counts(ax, series, xlabel=None, truncate=None, **bar_kwargs):\n",
    "    counts = series.value_counts()\n",
    "    ax.bar(counts.index, counts.values, **bar_kwargs)\n",
    "    ax.set(\n",
    "        xlabel=xlabel or series.name,\n",
    "        ylabel=\"Count\"\n",
    "    )\n",
    "    if truncate:\n",
    "        ax.set_xticklabels(truncate(ax.get_xticklabels()), rotation=45, ha=\"right\")\n",
    "\n",
    "\n",
    "def plot_hist(ax, series, bins=20, xlabel=None, **hist_kwargs):\n",
    "    ax.hist(series, bins=bins, **hist_kwargs)\n",
    "    ax.set(xlabel=xlabel or series.name, ylabel=\"Count\")\n",
    "\n",
    "\n",
    "fig, axes = plt.subplots(3, 2, figsize=(12, 15))\n",
    "\n",
    "plot_counts(axes[0, 0], data[\"income\"], color=\"C0\")\n",
    "plot_counts(axes[0, 1], data[\"sex\"], color=\"C0\")\n",
    "plot_counts(axes[1, 0], data[\"race\"], color=\"C0\", truncate=truncate_labels)\n",
    "plot_hist(axes[1, 1], data[\"age\"], xlabel=\"Age\", color=\"C0\")\n",
    "plot_hist(axes[2, 0], data[\"hs_week\"], xlabel=\"Hours of work / week\", color=\"C0\")\n",
    "axes[2, 1].axis('off');"
   ]
  },
  {
   "cell_type": "markdown",
   "metadata": {},
   "source": [
    "**Highlights**\n",
    "\n",
    "* Approximately 25% of the people make more than 50K a year.\n",
    "* Two thirds of the subjects are males.\n",
    "* The great majority of the subjects are white, only a minority are black and the other categories are very infrequent.\n",
    "* The distribution of age is skewed to the right, as one might expect.\n",
    "* The distribution of hours of work per week looks weird at first sight. But what is a typical workload per week? You got it, 40 hours :)."
   ]
  },
  {
   "cell_type": "markdown",
   "metadata": {},
   "source": [
    "We only keep the races black and white to simplify the analysis. The other categories don't appear very often in our data. \n",
    "\n",
    "Now, we see the distribution of income for the different levels of our explanatory variables. Numerical variables are binned to make the analysis possible."
   ]
  },
  {
   "cell_type": "code",
   "execution_count": null,
   "metadata": {},
   "outputs": [],
   "source": [
    "data = data[data[\"race\"].isin([\"Black\", \"White\"])]\n",
    "data[\"race\"] = data[\"race\"].cat.remove_unused_categories()\n",
    "age_bins = [17, 25, 35, 45, 65, 90]\n",
    "data[\"age_binned\"] = pd.cut(data[\"age\"], age_bins)\n",
    "hours_bins = [0, 20, 40, 60, 100]\n",
    "data[\"hs_week_binned\"] = pd.cut(data[\"hs_week\"], hours_bins)"
   ]
  },
  {
   "cell_type": "code",
   "execution_count": null,
   "metadata": {},
   "outputs": [],
   "source": [
    "fig, axes = plt.subplots(3, 2, figsize=(12, 15))\n",
    "sns.countplot(x=\"income\", color=\"C0\", data=data, ax=axes[0, 0])\n",
    "sns.countplot(x=\"sex\", hue=\"income\", data=data, ax=axes[0, 1])\n",
    "sns.countplot(x=\"race\", hue=\"income\", data=data, ax=axes[1, 0])\n",
    "sns.countplot(x=\"age_binned\", hue=\"income\", data=data, ax=axes[1, 1])\n",
    "sns.countplot(x=\"hs_week_binned\", hue=\"income\", data=data, ax=axes[2, 0])\n",
    "axes[2, 1].axis(\"off\");"
   ]
  },
  {
   "cell_type": "markdown",
   "metadata": {},
   "source": [
    "Some quick and gross info from the plots\n",
    "\n",
    "* The probability of making more than \\\\$50k a year is larger if you are a Male.\n",
    "* A person also has more probability of making more than \\\\$50k/yr if she/he is White.\n",
    "* For age, we see the probability of making more than \\\\$50k a year increases as the variable increases, up to a point where it starts to decrease.\n",
    "* Also, the more hours a person works per week, the higher the chance of making more than \\\\$50k/yr. There's a big jump in that probability when the hours of work per week jump from the (20, 40] bin to the (40, 60] one."
   ]
  },
  {
   "cell_type": "markdown",
   "metadata": {},
   "source": [
    "Some data preparation before fitting our model. Here we standardize numerical variables **age** and **hs_week** because it may help sampler convergence. Also, we compute their second and third power. These powers will be sequantialy added to the model."
   ]
  },
  {
   "cell_type": "code",
   "execution_count": null,
   "metadata": {},
   "outputs": [],
   "source": [
    "age_mean = np.mean(data[\"age\"])\n",
    "age_std = np.std(data[\"age\"])\n",
    "hs_mean = np.mean(data[\"hs_week\"])\n",
    "hs_std = np.std(data[\"hs_week\"])\n",
    "\n",
    "data[\"age\"] = (data[\"age\"] - age_mean) / age_std\n",
    "data[\"age2\"] = data[\"age\"] ** 2\n",
    "data[\"age3\"] = data[\"age\"] ** 3\n",
    "data[\"hs_week\"] = (data[\"hs_week\"] - hs_mean) / hs_std\n",
    "data[\"hs_week2\"] = data[\"hs_week\"] ** 2\n",
    "data[\"hs_week3\"] = data[\"hs_week\"] ** 3\n",
    "\n",
    "data = data.drop(columns=[\"age_binned\", \"hs_week_binned\"])"
   ]
  },
  {
   "cell_type": "markdown",
   "metadata": {},
   "source": [
    "This is how our data looks like before fitting the models."
   ]
  },
  {
   "cell_type": "code",
   "execution_count": null,
   "metadata": {},
   "outputs": [],
   "source": [
    "data.head()"
   ]
  },
  {
   "cell_type": "markdown",
   "metadata": {},
   "source": [
    "## The model\n",
    "\n",
    "We will use a logistic regression model to estimate the probability of making more than \\\\$50K as a function of age, hours of work per week, sex, race and education level.\n",
    "\n",
    "If we have a binary response variable $Y$ and a set of predictors or explanatory variables $X_1, X_2, \\cdots, X_p$ the logistic regression model can be defined as follows:\n",
    "\n",
    "$$\\log{\\left(\\frac{\\pi}{1 - \\pi}\\right)} = \\beta_0 + \\beta_1 X_1 + \\beta_2 X_2 + \\cdots + \\beta_p X_p$$\n",
    "\n",
    "where $\\pi = P(Y = 1)$ (a.k.a. probability of success) and $\\beta_0, \\beta_1, \\cdots \\beta_p$ are unknown parameters. The term on the left side is the logarithm of the odds ratio or simply known as the log-odds. With little effort, the expression can be re-arranged to express our probability of interest, $\\pi$, as a function of the betas and the predictors.\n",
    "\n",
    "$$\n",
    "\\pi = \\frac{e^{\\beta_0 + \\beta_1 X_1 + \\cdots + \\beta_p X_p}}{1 + e^{\\beta_0 + \\beta_1 X_1 + \\cdots + \\beta_p X_p}}\n",
    "    = \\frac{1}{1 + e^{-(\\beta_0 + \\beta_1 X_1 + \\cdots + \\beta_p X_p)}}\n",
    "$$\n",
    "\n",
    "We need to specify a prior and a likelihood in order to draw samples from the posterior distribution. We could use sociological knowledge about the effects of age and education on income, but instead, let’s use the default prior specification in Bambi.\n",
    "\n",
    "The likelihood is the product of $n$ Bernoulli trials, $\\prod_{i=1}^{n}{p_i^y(1-p_i)^{1-y_i}}$ where $p_i = P(Y=1)$.  \n",
    "\n",
    "In our case, we have \n",
    "\n",
    "$$Y = \n",
    "\\left\\{ \n",
    "    \\begin{array}{ll}\n",
    "        1 & \\textrm{if the person makes more than 50K per year} \\\\\n",
    "        0 & \\textrm{if the person makes less than 50K per year} \n",
    "    \\end{array}\n",
    "\\right.\n",
    "$$\n",
    "\n",
    "$$\\pi = P(Y=1)$$\n",
    "\n",
    "But this is a Bambi example, right? Let's see how Bambi can helps us to build a logistic regression model."
   ]
  },
  {
   "attachments": {},
   "cell_type": "markdown",
   "metadata": {},
   "source": [
    "## Model 1:\n",
    "\n",
    "$$\n",
    "\\log{\\left(\\frac{\\pi}{1 - \\pi}\\right)} = \\beta_0 + \\beta_1 X_1 + \\beta_2 X_2 + \\beta_3 X_3 + \\beta_4 X_4   \n",
    "$$\n",
    "\n",
    "Where:\n",
    "\n",
    "$$\n",
    "\\begin{split}\n",
    "X_1 &= \\displaystyle \\frac{\\text{Age} - \\text{mean(Age)}}{\\text{std(Age)}} \\\\\n",
    "X_2 &= \\displaystyle \\frac{\\text{Hours week} - \\text{mean(Hours week)}}{\\text{std(Hours week)}} \\\\\n",
    "X_3 &= \n",
    "\\left\\{ \n",
    "    \\begin{array}{ll}\n",
    "        1 & \\textrm{if the person is male} \\\\\n",
    "        0 & \\textrm{if the person is female} \n",
    "    \\end{array}\n",
    "\\right. \\\\\n",
    "X_4 &= \n",
    "\\left\\{ \n",
    "    \\begin{array}{ll}\n",
    "        1 & \\textrm{if the person is white} \\\\\n",
    "        0 & \\textrm{if the person is black} \n",
    "    \\end{array}\n",
    "\\right.\n",
    "\\end{split}\n",
    "$$\n"
   ]
  },
  {
   "cell_type": "code",
   "execution_count": null,
   "metadata": {},
   "outputs": [],
   "source": [
    "model1 = bmb.Model(\"income['>50K'] ~ sex + race + age + hs_week\", data, family=\"bernoulli\")\n",
    "fitted1 = model1.fit(draws=1000, idata_kwargs={\"log_likelihood\": True})"
   ]
  },
  {
   "cell_type": "code",
   "execution_count": null,
   "metadata": {},
   "outputs": [],
   "source": [
    "az.plot_trace(fitted1);\n",
    "az.summary(fitted1)"
   ]
  },
  {
   "attachments": {},
   "cell_type": "markdown",
   "metadata": {},
   "source": [
    "## Model 2\n",
    "\n",
    "$$\n",
    "\\log{\\left(\\frac{\\pi}{1 - \\pi}\\right)} = \\beta_0 + \\beta_1 X_1 + \\beta_2 X_1^2 + \\beta_3 X_2 + \\beta_4 X_2^2\n",
    "                                         + \\beta_5 X_3 + \\beta_6 X_4\n",
    "$$\n",
    "\n",
    "Where: \n",
    "\n",
    "$$\n",
    "\\begin{aligned}\n",
    "    X_1 &= \\displaystyle \\frac{\\text{Age} - \\text{mean(Age)}}{\\text{std(Age)}} \\\\\n",
    "    X_2 &= \\displaystyle \\frac{\\text{Hours week} - \\text{mean(Hours week)}}{\\text{std(Hours week)}} \\\\\n",
    "    X_3 &= \n",
    "    \\left\\{ \n",
    "        \\begin{array}{ll}\n",
    "            1 & \\textrm{if the person is male} \\\\\n",
    "            0 & \\textrm{if the person is female} \n",
    "        \\end{array}\n",
    "    \\right. \\\\\n",
    "    X_4 &= \n",
    "    \\left\\{ \n",
    "        \\begin{array}{ll}\n",
    "            1 & \\textrm{if the person is white} \\\\\n",
    "            0 & \\textrm{if the person is black} \n",
    "        \\end{array}\n",
    "    \\right. \\\\\n",
    "\\end{aligned}\n",
    "$$"
   ]
  },
  {
   "cell_type": "code",
   "execution_count": null,
   "metadata": {},
   "outputs": [],
   "source": [
    "model2 = bmb.Model(\"income['>50K'] ~ sex + race + age + age2 + hs_week + hs_week2\", data, family=\"bernoulli\")\n",
    "fitted2 = model2.fit(idata_kwargs={\"log_likelihood\": True})"
   ]
  },
  {
   "cell_type": "code",
   "execution_count": null,
   "metadata": {},
   "outputs": [],
   "source": [
    "az.plot_trace(fitted2);\n",
    "az.summary(fitted2)"
   ]
  },
  {
   "attachments": {},
   "cell_type": "markdown",
   "metadata": {},
   "source": [
    "## Model 3\n",
    "\n",
    "$$\n",
    "\\log{\\left(\\frac{\\pi}{1 - \\pi}\\right)} = \\beta_0 + \\beta_1 X_1 + \\beta_2 X_1^2 + \\beta_3 X_1^3 + \\beta_4 X_2 \n",
    "                                         + \\beta_5 X_2^2 + \\beta_6 X_2^3 + \\beta_7 X_3 + \\beta_8 X_4\n",
    "$$\n",
    "\n",
    "Where: \n",
    "\n",
    "$$\n",
    "\\begin{aligned}\n",
    "    X_1 &= \\displaystyle \\frac{\\text{Age} - \\text{mean(Age)}}{\\text{std(Age)}} \\\\\n",
    "    X_2 &= \\displaystyle \\frac{\\text{Hours week} - \\text{mean(Hours week)}}{\\text{std(Hours week)}} \\\\\n",
    "    X_3 &= \n",
    "    \\left\\{ \n",
    "        \\begin{array}{ll}\n",
    "            1 & \\textrm{if the person is male} \\\\\n",
    "            0 & \\textrm{if the person is female} \n",
    "        \\end{array}\n",
    "    \\right. \\\\\n",
    "    X_4 &= \n",
    "    \\left\\{ \n",
    "        \\begin{array}{ll}\n",
    "            1 & \\textrm{if the person is white} \\\\\n",
    "            0 & \\textrm{if the person is black} \n",
    "        \\end{array}\n",
    "    \\right. \n",
    "\\end{aligned}\n",
    "$$"
   ]
  },
  {
   "cell_type": "code",
   "execution_count": null,
   "metadata": {},
   "outputs": [],
   "source": [
    "model3 = bmb.Model(\n",
    "    \"income['>50K'] ~ age + age2 + age3 + hs_week + hs_week2 + hs_week3 + sex + race\",\n",
    "    data,\n",
    "    family=\"bernoulli\"\n",
    ")\n",
    "fitted3 = model3.fit(\n",
    "    draws=1000, random_seed=1234, target_accept=0.9, idata_kwargs={\"log_likelihood\": True}\n",
    ")"
   ]
  },
  {
   "cell_type": "code",
   "execution_count": null,
   "metadata": {},
   "outputs": [],
   "source": [
    "az.plot_trace(fitted3);\n",
    "az.summary(fitted3)"
   ]
  },
  {
   "cell_type": "markdown",
   "metadata": {},
   "source": [
    "## Model comparison\n",
    "\n",
    "We can perform a Bayesian model comparison very easily with `az.compare()`. Here we pass a dictionary with the InferenceData objects that `Model.fit()` returned and `az.compare()` returns a data frame that is ordered from best to worst according to the criteria used. By default, ArviZ uses *loo*,  which is an estimation of leave one out cross validation. Another option is the widely applicable information criterion (WAIC). For more information about the information criteria available and other options within the function [see the docs](https://arviz-devs.github.io/arviz/api/generated/arviz.compare.html)."
   ]
  },
  {
   "cell_type": "code",
   "execution_count": null,
   "metadata": {},
   "outputs": [],
   "source": [
    "models_dict = {\n",
    "    \"model1\": fitted1,\n",
    "    \"model2\": fitted2,\n",
    "    \"model3\": fitted3\n",
    "}\n",
    "df_compare = az.compare(models_dict)\n",
    "df_compare"
   ]
  },
  {
   "cell_type": "code",
   "execution_count": null,
   "metadata": {},
   "outputs": [],
   "source": [
    "az.plot_compare(df_compare, insample_dev=False);"
   ]
  },
  {
   "cell_type": "markdown",
   "metadata": {},
   "source": [
    "There is a difference in the point estimations (empty circles) between the model with cubic terms (model 3) and the model with quadratic terms (model 2) but there is some overlap between their interval estimations. This time, we are going to select model 2 and do some extra little work with it because from previous experience with this dataset we know there is no substantial difference between them, and model 2 is simpler. However, as we mention in the final remarks, this is not the best you can achieve with this dataset. If you want, you could also try to add other predictors, such as education level and see how it impacts in the model comparison :). "
   ]
  },
  {
   "cell_type": "markdown",
   "metadata": {},
   "source": [
    "## Probability estimation\n",
    "\n",
    "In this section we plot age vs the probability of making more than 50K a year given different profiles."
   ]
  },
  {
   "cell_type": "markdown",
   "metadata": {},
   "source": [
    "We set hours of work per week at 40 hours and assign a grid from 18 to 75 age. They're standardized because they\n",
    "were standardized when we fitted the model.\n",
    "\n",
    "Here we use `az.plot_hdi()` to get Highest Density Interval plots. We get two bands for each profile. One corresponds to an hdi probability of 0.94 (the default) and the other to an hdi probability of 0.5."
   ]
  },
  {
   "cell_type": "code",
   "execution_count": null,
   "metadata": {},
   "outputs": [],
   "source": [
    "bmb.interpret.plot_predictions(\n",
    "    model2,\n",
    "    fitted2,\n",
    "    conditional={}\n",
    ")"
   ]
  },
  {
   "cell_type": "code",
   "execution_count": null,
   "metadata": {},
   "outputs": [],
   "source": [
    "HS_WEEK = (40 - hs_mean) / hs_std\n",
    "AGE = (np.linspace(18, 75) - age_mean) / age_std\n",
    "\n",
    "fig, ax = plt.subplots()\n",
    "handles = []\n",
    "i = 0\n",
    "\n",
    "for race in [\"Black\", \"White\"]:\n",
    "    for sex in [\"Female\", \"Male\"]:\n",
    "        color = f\"C{i}\"\n",
    "        label = f\"{race} - {sex}\"\n",
    "        handles.append(mlines.Line2D([], [], color=color, label=label, lw=3))\n",
    "\n",
    "        new_data = pd.DataFrame({\n",
    "            \"sex\": [sex] * len(AGE),\n",
    "            \"race\": [race] * len(AGE),\n",
    "            \"age\": AGE,\n",
    "            \"age2\": AGE ** 2,\n",
    "            \"hs_week\": [HS_WEEK] * len(AGE),\n",
    "            \"hs_week2\": [HS_WEEK ** 2] * len(AGE),\n",
    "        })\n",
    "        new_idata = model2.predict(fitted2, data=new_data, inplace=False)\n",
    "        mean = new_idata.posterior[\"p\"].values\n",
    "\n",
    "        az.plot_hdi(AGE * age_std + age_mean, mean, ax=ax, color=color)\n",
    "        az.plot_hdi(AGE * age_std + age_mean, mean, ax=ax, color=color, hdi_prob=0.5)\n",
    "        i += 1\n",
    "\n",
    "ax.set_xlabel(\"Age\")\n",
    "ax.set_ylabel(\"P(Income > $50K)\")\n",
    "ax.legend(handles=handles, loc=\"upper left\");"
   ]
  },
  {
   "cell_type": "markdown",
   "metadata": {},
   "source": [
    "The highest posterior density bands show how the probability of earning more than 50K changes with age for a given profile. In all the cases, we see the probability of making more than $50K increases with age until approximately age 52, when the probability begins to drop off. We can interpret narrow portions of a curve as places where we have low uncertainty and spread out portions of the bands as places where we have somewhat higher uncertainty about our coefficient values."
   ]
  },
  {
   "cell_type": "markdown",
   "metadata": {},
   "source": [
    "### Final remarks\n",
    "\n",
    "In this notebook we've seen how easy it is to incorporate ArviZ into a Bambi workflow to perform model comparison based on information criteria such as **LOO** and **WAIC**. However, an attentive reader might have seen that the highest density interval plot never shows a predicted probability greater than 0.5 (which is not good if we expect to predict that at least some people working 40hrs/wk make more than \\\\$50k/yr). You can increase the hours of work per week for the profiles we've used and the HDIs will show larger values. But we won't be seeing the whole picture.  \n",
    "\n",
    "Although we're using some demographic variables such as **sex** and **race**, the cells resulting from the combinations of their levels are still very heterogeneous. For example, we are mixing individuals of all educational levels. A possible next step is to **incorporate education** into the different models we compared. If any of the readers (yes, you!) is interested in doing so, here there are some notes that may help \n",
    "\n",
    "* Education is an ordinal categorical variable with a lot of levels. \n",
    "    + Explore the conditional distribution of income given education levels.\n",
    "    + See what are the counts/proportions of people within each education level.\n",
    "    + Collapse categories (but respect the ordinality!). Try to end up with 5 or less categories if possible.\n",
    "* Start with a model with only **age**, **sex**, **race**, **hs_week** and **education**. Then incorporate higher order  terms (second and third powers for example). Don't go beyond fourth powers.\n",
    "* Look for a nice activity to do while the sampler does its job.  \n",
    "We know it's going to take a couple of hours to fit all those models :) \n",
    "\n",
    "And finally, please feel free to [open a new issue](https://github.com/bambinos/bambi/issues) if you think there's something that we can improve."
   ]
  },
  {
   "cell_type": "code",
   "execution_count": null,
   "metadata": {},
   "outputs": [],
   "source": [
    "%load_ext watermark\n",
    "%watermark -n -u -v -iv -w"
   ]
  }
 ],
 "metadata": {
  "kernelspec": {
   "display_name": "dev",
   "language": "python",
   "name": "python3"
  },
  "language_info": {
   "codemirror_mode": {
    "name": "ipython",
    "version": 3
   },
   "file_extension": ".py",
   "mimetype": "text/x-python",
   "name": "python",
   "nbconvert_exporter": "python",
   "pygments_lexer": "ipython3",
   "version": "3.13.7"
  }
 },
 "nbformat": 4,
 "nbformat_minor": 4
}
