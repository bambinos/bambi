{
 "cells": [
  {
   "cell_type": "code",
   "execution_count": 1,
   "metadata": {},
   "outputs": [],
   "source": [
    "import arviz as az\n",
    "import matplotlib.pyplot as plt\n",
    "from matplotlib.lines import Line2D\n",
    "import numpy as np\n",
    "import pandas as pd\n",
    "import warnings\n",
    "\n",
    "import bambi as bmb\n",
    "\n",
    "warnings.filterwarnings(\"ignore\", category=FutureWarning)"
   ]
  },
  {
   "cell_type": "markdown",
   "metadata": {},
   "source": [
    "# Ordinal Regression\n",
    "\n",
    "In some scenarios, the response variable is discrete, like a count, and ordered. Common examples of such data come from questionnaires where the respondent is asked to rate a product, service, or experience on a scale. This scale is often referred to as a [Likert scale](https://en.wikipedia.org/wiki/Likert_scale). For example, a five-level Likert scale could be:\n",
    "\n",
    "- 1 = Strongly disagree\n",
    "- 2 = Disagree\n",
    "- 3 = Neither agree nor disagree\n",
    "- 4 = Agree\n",
    "- 5 = Strongly agree\n",
    "\n",
    "The result is a set of **ordered categories** where each category has an associated numeric value (1-5). However, you can't compute a meaningful difference between the categories. Moreover, the response variable can also be a count where meaningful differences can be computed. For example, a restaurant can be rated on a scale of 1-5 stars where 1 is the worst and 5 is the best. Yes, you can compute the difference between 1 and 2 stars, but it is often treated as ordinal in an applied setting.\n",
    "\n",
    "Ordinal data presents three challenges when modelling:\n",
    "\n",
    "1. Unlike a count, the differences in the values are not necessarily equidistant or meaningful. For example, computing the difference between \"Strongly disagree\" and \"Disagree\". Or, in the case of the restaurant rating, it may be much harder for a restuarant to go from 4 to 5 stars than from 2 to 3 stars. \n",
    "2. The distribution of ordinal responses may be nonnormal as the response is not continuous; particularly if larger response levels are infrequently chosen compared to lower ones.\n",
    "3. The variances of the unobserved variables that underlie the observed ordered category may differ between the category, time points, etc. \n",
    "\n",
    "Thus, treating ordered categories as continuous is not appropriate. To this extent, Bambi supports two classes of ordinal regression models: (1) cumulative, and (2) sequential. Below, it is demonstrated how to fit these two models using Bambi to overcome the challenges of ordered category response data."
   ]
  },
  {
   "cell_type": "markdown",
   "metadata": {},
   "source": [
    "## Cumulative model\n",
    "\n",
    "A cumulative model assumes that the observed ordinal variable $Y$ originates from the \"categorization\" of a latent continuous variable $Z$. To model the categorization process, the model assumes that there are $K$ thresholds (or cutpoints) $\\tau_k$ that partition $Z$ into $K+1$ observable, ordered categories of $Y$. The subscript $k$ in $\\tau_k$ is an index that associates that threshold to a particular category $k$. For example, if the response has three categories such as \"disagree\", \"neither agree nor disagree\", and \"agree\", then there are two thresholds $\\tau_1$ and $\\tau_2$ that partition $Z$ into $K+1 = 3$ categories. Additionally, if we assume $Z$ to have a certain distribution (e.g., Normal) with a cumulative distribution function $F$, the probability of $Y$ being equal to category $k$ is\n",
    "\n",
    "$$P(Y = k) = F(\\tau_k) - F(\\tau_{k-1})$$\n",
    "\n",
    "where $F(\\tau)$ is a cumulative probability. For example, suppose we are interested in the probability of each category stated above, and have two thresholds $\\tau_1 = -1, \\tau_2 = 1$ for the three categories. Additionally, if we assume $Z$ to be normally distributed with $\\sigma = 1$ and a cumulative distribution function $\\Phi$ then\n",
    "\n",
    "$$P(Y = 1) = \\Phi(\\tau_1) = \\Phi(-1)$$\n",
    "\n",
    "$$P(Y = 2) = \\Phi(\\tau_2) - \\Phi(\\tau_1) = \\Phi(1) - \\Phi(-1)$$\n",
    "\n",
    "$$P(Y = 3) = 1 - \\Phi(\\tau_2) = 1 - \\Phi(1)$$\n",
    "\n",
    "\n",
    "But how to set the values of the thresholds? By default, Bambi uses a Normal distribution with a grid of evenly spaced $\\mu$ that depends on the number of response levels as the prior for the thresholds. Additionally, since the thresholds need to be orderd, Bambi applies a transformation to the values such that the order is preserved. Furthermore, the model specification for ordinal regression typically transforms the cumulative probabilities using the log-cumulative-odds (logit) transformation. Therefore, the learned parameters for the thresholds $\\tau$ will be logits.\n",
    "\n",
    "Lastly, as each $F(\\tau)$ implies a cumulative probability for each category, the largest response level always has a cumulative probability of 1. Thus, we effectively do not need a parameter for it due to the law of total probability. For example, for three response values, we only need two thresholds as two thresholds partition $Z$ into $K+1$ categories."
   ]
  },
  {
   "cell_type": "markdown",
   "metadata": {},
   "source": [
    "### The moral intuition dataset\n",
    "\n",
    "To illustrate an cumulative ordinal model, we will model data from a series of experiments conducted by philsophers (this example comes from Richard McElreath's [Statistical Rethinking](https://xcelab.net/rm/statistical-rethinking/)). The experiments aim to collect empirical evidence relevant to debates about moral intuition, the forms of reasoning through which people develop judgments about the moral goodness and badness of actions. \n",
    "\n",
    "In the dataset there are 12 columns and 9930 rows, comprising data for 331 unique individuals. The response we are interested in `response`, is an integer from 1 to 7 indicating how morally permissible the participant found the action to be taken (or not) in the story. The predictors are as follows:\n",
    "\n",
    "- `action`: a factor with levels 0 and 1 where 1 indicates that the story contained \"harm caused by action is morally worse than equivalent harm caused by omission\".\n",
    "- `intention`: a factor with levels 0 and 1 where 1 indicates that the story contained \"harm intended as the means to a goal is morally worse than equivalent harm foreseen as the side effect of a goal\".\n",
    "- `contact`: a factor with levels 0 and 1 where 1 indicates that the story contained \"using physical contact to cause harm to a victim is morally worse than causing equivalent harm to a victim without using physical contact\"."
   ]
  },
  {
   "cell_type": "code",
   "execution_count": 2,
   "metadata": {},
   "outputs": [],
   "source": [
    "trolly = pd.read_csv(\"https://raw.githubusercontent.com/rmcelreath/rethinking/master/data/Trolley.csv\", sep=\";\")\n",
    "trolly = trolly[[\"response\", \"action\", \"intention\", \"contact\"]]\n",
    "trolly[\"action\"] = pd.Categorical(trolly[\"action\"], ordered=False)\n",
    "trolly[\"intention\"] = pd.Categorical(trolly[\"intention\"], ordered=False)\n",
    "trolly[\"contact\"] = pd.Categorical(trolly[\"contact\"], ordered=False)\n",
    "trolly[\"response\"] = pd.Categorical(trolly[\"response\"], ordered=True)"
   ]
  },
  {
   "cell_type": "code",
   "execution_count": 3,
   "metadata": {},
   "outputs": [
    {
     "data": {
      "text/plain": [
       "[4, 3, 5, 2, 1, 7, 6]\n",
       "Categories (7, int64): [1 < 2 < 3 < 4 < 5 < 6 < 7]"
      ]
     },
     "execution_count": 3,
     "metadata": {},
     "output_type": "execute_result"
    }
   ],
   "source": [
    "# 7 ordered categories from 1-7\n",
    "trolly.response.unique()"
   ]
  },
  {
   "cell_type": "markdown",
   "metadata": {},
   "source": [
    "### Intercept only model\n",
    "\n",
    "Before we fit a model with predictors, let's attempt to recover the parameters of an ordinal model using only the thresholds to get a feel for the cumulative family. Traditionally, in Bambi if we wanted to recover the parameters of the likelihood, we would use an intercept only model and write the formula as `response ~ 1` where `1` indicates to include the intercept. However, in the case of ordinal regression, the thresholds \"take the place\" of the intercept. Thus, we can write the formula as `response ~ 0` to indicate that we do not want to include an intercept. To fit a cumulative ordinal model, we pass `family=\"cumulative\"`. To compare the thresholds only model, we compute the empirical log-cumulative-odds of the categories directly from the data below and generate a bar plot of the response probabilities."
   ]
  },
  {
   "cell_type": "code",
   "execution_count": 4,
   "metadata": {},
   "outputs": [
    {
     "name": "stderr",
     "output_type": "stream",
     "text": [
      "/tmp/ipykernel_117147/1548491577.py:3: RuntimeWarning: invalid value encountered in log\n",
      "  logit_func = lambda x: np.log(x / (1 - x))\n"
     ]
    },
    {
     "data": {
      "text/plain": [
       "array([-1.91609116, -1.26660559, -0.718634  ,  0.24778573,  0.88986365,\n",
       "        1.76938091,         nan])"
      ]
     },
     "execution_count": 4,
     "metadata": {},
     "output_type": "execute_result"
    }
   ],
   "source": [
    "pr_k = trolly.response.value_counts().sort_index().values / trolly.shape[0]\n",
    "cum_pr_k = np.cumsum(pr_k)\n",
    "logit_func = lambda x: np.log(x / (1 - x))\n",
    "cum_logit = logit_func(cum_pr_k)\n",
    "cum_logit"
   ]
  },
  {
   "cell_type": "code",
   "execution_count": 5,
   "metadata": {},
   "outputs": [
    {
     "data": {
      "image/png": "[encoded data removed]",
      "text/plain": [
       "<Figure size 700x300 with 1 Axes>"
      ]
     },
     "metadata": {},
     "output_type": "display_data"
    }
   ],
   "source": [
    "plt.figure(figsize=(7, 3))\n",
    "plt.bar(np.arange(1, 8), pr_k)\n",
    "plt.ylabel(\"Probability\")\n",
    "plt.xlabel(\"Response\")\n",
    "plt.title(\"Empirical probability of each response category\");"
   ]
  },
  {
   "cell_type": "code",
   "execution_count": 6,
   "metadata": {},
   "outputs": [
    {
     "name": "stderr",
     "output_type": "stream",
     "text": [
      "Auto-assigning NUTS sampler...\n",
      "Initializing NUTS using jitter+adapt_diag...\n",
      "Multiprocess sampling (2 chains in 2 jobs)\n",
      "NUTS: [threshold]\n"
     ]
    },
    {
     "data": {
      "application/vnd.jupyter.widget-view+json": {
       "model_id": "b541e7837edd4e128fe3428198840106",
       "version_major": 2,
       "version_minor": 0
      },
      "text/plain": [
       "Output()"
      ]
     },
     "metadata": {},
     "output_type": "display_data"
    },
    {
     "name": "stderr",
     "output_type": "stream",
     "text": [
      "/home/tomas/anaconda3/envs/bambi-dev/lib/python3.11/site-packages/pytensor/compile/function/types.py:970: RuntimeWarning: invalid value encountered in add\n",
      "  self.vm()\n"
     ]
    },
    {
     "data": {
      "text/html": [
       "<pre style=\"white-space:pre;overflow-x:auto;line-height:normal;font-family:Menlo,'DejaVu Sans Mono',consolas,'Courier New',monospace\"></pre>\n"
      ],
      "text/plain": []
     },
     "metadata": {},
     "output_type": "display_data"
    },
    {
     "data": {
      "text/html": [
       "<pre style=\"white-space:pre;overflow-x:auto;line-height:normal;font-family:Menlo,'DejaVu Sans Mono',consolas,'Courier New',monospace\">\n",
       "</pre>\n"
      ],
      "text/plain": [
       "\n"
      ]
     },
     "metadata": {},
     "output_type": "display_data"
    },
    {
     "name": "stderr",
     "output_type": "stream",
     "text": [
      "Sampling 2 chains for 1_000 tune and 1_000 draw iterations (2_000 + 2_000 draws total) took 8 seconds.\n",
      "We recommend running at least 4 chains for robust computation of convergence diagnostics\n"
     ]
    }
   ],
   "source": [
    "model = bmb.Model(\"response ~ 0\", data=trolly, family=\"cumulative\")\n",
    "idata = model.fit(random_seed=1234)"
   ]
  },
  {
   "cell_type": "markdown",
   "metadata": {},
   "source": [
    "Below, the components of the model are outputed. Notice how the thresholds are a grid of six values ranging from -2 to 2. "
   ]
  },
  {
   "cell_type": "code",
   "execution_count": 7,
   "metadata": {},
   "outputs": [
    {
     "data": {
      "text/plain": [
       "       Formula: response ~ 0\n",
       "        Family: cumulative\n",
       "          Link: p = logit\n",
       "  Observations: 9930\n",
       "        Priors: \n",
       "    target = p\n",
       "        \n",
       "        \n",
       "        Auxiliary parameters\n",
       "            threshold ~ Normal(mu: [-2.  -1.2 -0.4  0.4  1.2  2. ], sigma: 1.0, transform: ordered)\n",
       "------\n",
       "* To see a plot of the priors call the .plot_priors() method.\n",
       "* To see a summary or plot of the posterior pass the object returned by .fit() to az.summary() or az.plot_trace()"
      ]
     },
     "execution_count": 7,
     "metadata": {},
     "output_type": "execute_result"
    }
   ],
   "source": [
    "model"
   ]
  },
  {
   "cell_type": "code",
   "execution_count": 8,
   "metadata": {},
   "outputs": [
    {
     "data": {
      "text/html": [
       "<div>\n",
       "<style scoped>\n",
       "    .dataframe tbody tr th:only-of-type {\n",
       "        vertical-align: middle;\n",
       "    }\n",
       "\n",
       "    .dataframe tbody tr th {\n",
       "        vertical-align: top;\n",
       "    }\n",
       "\n",
       "    .dataframe thead th {\n",
       "        text-align: right;\n",
       "    }\n",
       "</style>\n",
       "<table border=\"1\" class=\"dataframe\">\n",
       "  <thead>\n",
       "    <tr style=\"text-align: right;\">\n",
       "      <th></th>\n",
       "      <th>mean</th>\n",
       "      <th>sd</th>\n",
       "      <th>hdi_3%</th>\n",
       "      <th>hdi_97%</th>\n",
       "      <th>mcse_mean</th>\n",
       "      <th>mcse_sd</th>\n",
       "      <th>ess_bulk</th>\n",
       "      <th>ess_tail</th>\n",
       "      <th>r_hat</th>\n",
       "    </tr>\n",
       "  </thead>\n",
       "  <tbody>\n",
       "    <tr>\n",
       "      <th>threshold[0]</th>\n",
       "      <td>-1.917</td>\n",
       "      <td>0.030</td>\n",
       "      <td>-1.969</td>\n",
       "      <td>-1.859</td>\n",
       "      <td>0.001</td>\n",
       "      <td>0.0</td>\n",
       "      <td>2293.0</td>\n",
       "      <td>1520.0</td>\n",
       "      <td>1.0</td>\n",
       "    </tr>\n",
       "    <tr>\n",
       "      <th>threshold[1]</th>\n",
       "      <td>-1.267</td>\n",
       "      <td>0.024</td>\n",
       "      <td>-1.314</td>\n",
       "      <td>-1.223</td>\n",
       "      <td>0.000</td>\n",
       "      <td>0.0</td>\n",
       "      <td>2826.0</td>\n",
       "      <td>1286.0</td>\n",
       "      <td>1.0</td>\n",
       "    </tr>\n",
       "    <tr>\n",
       "      <th>threshold[2]</th>\n",
       "      <td>-0.718</td>\n",
       "      <td>0.021</td>\n",
       "      <td>-0.759</td>\n",
       "      <td>-0.679</td>\n",
       "      <td>0.000</td>\n",
       "      <td>0.0</td>\n",
       "      <td>2621.0</td>\n",
       "      <td>2089.0</td>\n",
       "      <td>1.0</td>\n",
       "    </tr>\n",
       "    <tr>\n",
       "      <th>threshold[3]</th>\n",
       "      <td>0.248</td>\n",
       "      <td>0.020</td>\n",
       "      <td>0.211</td>\n",
       "      <td>0.286</td>\n",
       "      <td>0.000</td>\n",
       "      <td>0.0</td>\n",
       "      <td>2491.0</td>\n",
       "      <td>1849.0</td>\n",
       "      <td>1.0</td>\n",
       "    </tr>\n",
       "    <tr>\n",
       "      <th>threshold[4]</th>\n",
       "      <td>0.891</td>\n",
       "      <td>0.022</td>\n",
       "      <td>0.850</td>\n",
       "      <td>0.931</td>\n",
       "      <td>0.000</td>\n",
       "      <td>0.0</td>\n",
       "      <td>2334.0</td>\n",
       "      <td>1882.0</td>\n",
       "      <td>1.0</td>\n",
       "    </tr>\n",
       "    <tr>\n",
       "      <th>threshold[5]</th>\n",
       "      <td>1.771</td>\n",
       "      <td>0.028</td>\n",
       "      <td>1.719</td>\n",
       "      <td>1.822</td>\n",
       "      <td>0.001</td>\n",
       "      <td>0.0</td>\n",
       "      <td>2352.0</td>\n",
       "      <td>1795.0</td>\n",
       "      <td>1.0</td>\n",
       "    </tr>\n",
       "  </tbody>\n",
       "</table>\n",
       "</div>"
      ],
      "text/plain": [
       "               mean     sd  hdi_3%  hdi_97%  mcse_mean  mcse_sd  ess_bulk  \\\n",
       "threshold[0] -1.917  0.030  -1.969   -1.859      0.001      0.0    2293.0   \n",
       "threshold[1] -1.267  0.024  -1.314   -1.223      0.000      0.0    2826.0   \n",
       "threshold[2] -0.718  0.021  -0.759   -0.679      0.000      0.0    2621.0   \n",
       "threshold[3]  0.248  0.020   0.211    0.286      0.000      0.0    2491.0   \n",
       "threshold[4]  0.891  0.022   0.850    0.931      0.000      0.0    2334.0   \n",
       "threshold[5]  1.771  0.028   1.719    1.822      0.001      0.0    2352.0   \n",
       "\n",
       "              ess_tail  r_hat  \n",
       "threshold[0]    1520.0    1.0  \n",
       "threshold[1]    1286.0    1.0  \n",
       "threshold[2]    2089.0    1.0  \n",
       "threshold[3]    1849.0    1.0  \n",
       "threshold[4]    1882.0    1.0  \n",
       "threshold[5]    1795.0    1.0  "
      ]
     },
     "execution_count": 8,
     "metadata": {},
     "output_type": "execute_result"
    }
   ],
   "source": [
    "az.summary(idata)"
   ]
  },
  {
   "cell_type": "markdown",
   "metadata": {},
   "source": [
    "Viewing the summary dataframe, we see a total of six  `response_threshold` coefficients. Why six? Remember, we get the last parameter for free. Since there are seven categories, we only need six cutpoints. The index (using zero based indexing) of the `response_threshold` indicates the category that the threshold is associated with. Comparing to the empirical log-cumulative-odds computation above, the mean of the posterior distribution for each category is close to the empirical value.\n",
    "\n",
    "As the the log cumulative link is used, we need to apply the inverse of the logit function to transform back to cumulative probabilities. Below, we plot the cumulative probabilities for each category. "
   ]
  },
  {
   "cell_type": "code",
   "execution_count": 9,
   "metadata": {},
   "outputs": [
    {
     "data": {
      "image/png": "[encoded data removed]",
      "text/plain": [
       "<Figure size 700x300 with 1 Axes>"
      ]
     },
     "metadata": {},
     "output_type": "display_data"
    }
   ],
   "source": [
    "expit_func = lambda x: 1 / (1 + np.exp(-x))\n",
    "cumprobs = expit_func(idata.posterior.threshold).mean((\"chain\", \"draw\"))\n",
    "cumprobs = np.append(cumprobs, 1)\n",
    "\n",
    "plt.figure(figsize=(7, 3))\n",
    "plt.plot(sorted(trolly.response.unique()), cumprobs, marker='o')\n",
    "plt.ylabel(\"Cumulative probability\")\n",
    "plt.xlabel(\"Response category\")\n",
    "plt.title(\"Cumulative probabilities of response categories\");"
   ]
  },
  {
   "cell_type": "code",
   "execution_count": 10,
   "metadata": {},
   "outputs": [
    {
     "data": {
      "image/png": "[encoded data removed]",
      "text/plain": [
       "<Figure size 700x300 with 1 Axes>"
      ]
     },
     "metadata": {},
     "output_type": "display_data"
    }
   ],
   "source": [
    "fig, ax = plt.subplots(figsize=(7, 3))\n",
    "for i in range(6):\n",
    "    outcome = expit_func(idata.posterior.threshold).sel(threshold_dim=i).to_numpy().flatten()\n",
    "    ax.hist(outcome, bins=15, alpha=0.5, label=f\"Category: {i}\")\n",
    "ax.set_xlabel(\"Probability\")\n",
    "ax.set_ylabel(\"Count\")\n",
    "ax.set_title(\"Cumulative Probability by Category\")\n",
    "ax.legend(bbox_to_anchor=(1.04, 1), loc=\"upper left\");"
   ]
  },
  {
   "cell_type": "markdown",
   "metadata": {},
   "source": [
    "We can take the derivative of the cumulative probabilities to get the posterior probabilities for each category. Notice how the posterior probabilities in the barplot below are close to the empirical probabilities in barplot above."
   ]
  },
  {
   "cell_type": "code",
   "execution_count": 11,
   "metadata": {},
   "outputs": [
    {
     "data": {
      "image/png": "[encoded data removed]",
      "text/plain": [
       "<Figure size 700x300 with 1 Axes>"
      ]
     },
     "metadata": {},
     "output_type": "display_data"
    }
   ],
   "source": [
    "# derivative\n",
    "ddx = np.diff(cumprobs)\n",
    "probs = np.insert(ddx, 0, cumprobs[0])\n",
    "\n",
    "plt.figure(figsize=(7, 3))\n",
    "plt.bar(sorted(trolly.response.unique()), probs)\n",
    "plt.ylabel(\"Probability\")\n",
    "plt.xlabel(\"Response category\")\n",
    "plt.title(\"Posterior Probability of each response category\");"
   ]
  },
  {
   "cell_type": "markdown",
   "metadata": {},
   "source": [
    "Notice in the plots above, the jump in probability from category 3 to 4. Additionally, the estimates of the coefficients is precise for each category. Now that we have an understanding how the cumulative link function is applied to produce ordered cumulative outcomes, we will add predictors to the model. "
   ]
  },
  {
   "cell_type": "markdown",
   "metadata": {},
   "source": [
    "### Adding predictors\n",
    "\n",
    "In the cumulative model described above, adding predictors was explicitly left out. In this section, it is described how predictors are added to ordinal cumulative models. When adding predictor variables, what we would like is for any predictor, as it increases, predictions are moved progressively (increased) through the categories in sequence. A linear regression is formed for $Z$ by adding a predictor term $\\eta$\n",
    "\n",
    "$$\\eta = \\beta_1 x_1 + \\beta_2 x_2 +, . . ., \\beta_n x_n$$\n",
    "\n",
    "Notice how similar this looks to an ordinary linear model. However, there is no intercept or error term. This is because the intercept is replaced by the threshold $\\tau$ and the error term $\\epsilon$ is added seperately to obtain\n",
    "\n",
    "$$Z = \\eta + \\epsilon$$ \n",
    "\n",
    "Putting the predictor term together with the thresholds and cumulative distribution function, we obtain the probability of $Y$ being equal to a category $k$ as\n",
    "\n",
    "$$Pr(Y = k | \\eta) = F(\\tau_k - \\eta) - F(\\tau_{k-1} - \\eta)$$\n",
    "\n",
    "The same predictor term $\\eta$ is subtracted from each threshold because if we decrease the log-cumulative-odds of every outcome value $k$ below the maximum, this shifts probability mass upwards towards higher outcome values. Thus, positive $\\beta$ values correspond to increasing $x$, which is associated with an increase in the mean response $Y$. The parameters to be estimated from the model are the thresholds $\\tau$ and the predictor terms $\\eta$ coefficients.  \n",
    "\n",
    "To add predictors for ordinal models in Bambi, we continue to use the formula interface."
   ]
  },
  {
   "cell_type": "code",
   "execution_count": 12,
   "metadata": {},
   "outputs": [
    {
     "name": "stderr",
     "output_type": "stream",
     "text": [
      "Auto-assigning NUTS sampler...\n",
      "Initializing NUTS using jitter+adapt_diag...\n",
      "Multiprocess sampling (2 chains in 2 jobs)\n",
      "NUTS: [threshold, action, intention, contact, action:intention, contact:intention]\n"
     ]
    },
    {
     "data": {
      "application/vnd.jupyter.widget-view+json": {
       "model_id": "e9770346ce3e4ae19876e74050953637",
       "version_major": 2,
       "version_minor": 0
      },
      "text/plain": [
       "Output()"
      ]
     },
     "metadata": {},
     "output_type": "display_data"
    },
    {
     "name": "stderr",
     "output_type": "stream",
     "text": [
      "/home/tomas/anaconda3/envs/bambi-dev/lib/python3.11/site-packages/pytensor/compile/function/types.py:970: RuntimeWarning: invalid value encountered in accumulate\n",
      "  self.vm()\n"
     ]
    },
    {
     "data": {
      "text/html": [
       "<pre style=\"white-space:pre;overflow-x:auto;line-height:normal;font-family:Menlo,'DejaVu Sans Mono',consolas,'Courier New',monospace\"></pre>\n"
      ],
      "text/plain": []
     },
     "metadata": {},
     "output_type": "display_data"
    },
    {
     "data": {
      "text/html": [
       "<pre style=\"white-space:pre;overflow-x:auto;line-height:normal;font-family:Menlo,'DejaVu Sans Mono',consolas,'Courier New',monospace\">\n",
       "</pre>\n"
      ],
      "text/plain": [
       "\n"
      ]
     },
     "metadata": {},
     "output_type": "display_data"
    },
    {
     "name": "stderr",
     "output_type": "stream",
     "text": [
      "Sampling 2 chains for 1_000 tune and 1_000 draw iterations (2_000 + 2_000 draws total) took 93 seconds.\n",
      "We recommend running at least 4 chains for robust computation of convergence diagnostics\n"
     ]
    }
   ],
   "source": [
    "model = bmb.Model(\n",
    "    \"response ~ 0 + action + intention + contact + action:intention + contact:intention\", \n",
    "    data=trolly, \n",
    "    family=\"cumulative\"\n",
    ")\n",
    "idata = model.fit(random_seed=1234)"
   ]
  },
  {
   "cell_type": "markdown",
   "metadata": {},
   "source": [
    "In the summary dataframe below, we only select the predictor variables as the cutpoints are not of interest at the moment."
   ]
  },
  {
   "cell_type": "code",
   "execution_count": 13,
   "metadata": {},
   "outputs": [
    {
     "data": {
      "text/html": [
       "<div>\n",
       "<style scoped>\n",
       "    .dataframe tbody tr th:only-of-type {\n",
       "        vertical-align: middle;\n",
       "    }\n",
       "\n",
       "    .dataframe tbody tr th {\n",
       "        vertical-align: top;\n",
       "    }\n",
       "\n",
       "    .dataframe thead th {\n",
       "        text-align: right;\n",
       "    }\n",
       "</style>\n",
       "<table border=\"1\" class=\"dataframe\">\n",
       "  <thead>\n",
       "    <tr style=\"text-align: right;\">\n",
       "      <th></th>\n",
       "      <th>mean</th>\n",
       "      <th>sd</th>\n",
       "      <th>hdi_3%</th>\n",
       "      <th>hdi_97%</th>\n",
       "      <th>mcse_mean</th>\n",
       "      <th>mcse_sd</th>\n",
       "      <th>ess_bulk</th>\n",
       "      <th>ess_tail</th>\n",
       "      <th>r_hat</th>\n",
       "    </tr>\n",
       "  </thead>\n",
       "  <tbody>\n",
       "    <tr>\n",
       "      <th>action[1]</th>\n",
       "      <td>-0.463</td>\n",
       "      <td>0.054</td>\n",
       "      <td>-0.564</td>\n",
       "      <td>-0.360</td>\n",
       "      <td>0.001</td>\n",
       "      <td>0.001</td>\n",
       "      <td>1418.0</td>\n",
       "      <td>1691.0</td>\n",
       "      <td>1.0</td>\n",
       "    </tr>\n",
       "    <tr>\n",
       "      <th>intention[1]</th>\n",
       "      <td>-0.274</td>\n",
       "      <td>0.058</td>\n",
       "      <td>-0.380</td>\n",
       "      <td>-0.161</td>\n",
       "      <td>0.002</td>\n",
       "      <td>0.001</td>\n",
       "      <td>1264.0</td>\n",
       "      <td>1446.0</td>\n",
       "      <td>1.0</td>\n",
       "    </tr>\n",
       "    <tr>\n",
       "      <th>contact[1]</th>\n",
       "      <td>-0.325</td>\n",
       "      <td>0.068</td>\n",
       "      <td>-0.445</td>\n",
       "      <td>-0.189</td>\n",
       "      <td>0.002</td>\n",
       "      <td>0.001</td>\n",
       "      <td>1203.0</td>\n",
       "      <td>1310.0</td>\n",
       "      <td>1.0</td>\n",
       "    </tr>\n",
       "    <tr>\n",
       "      <th>action:intention[1, 1]</th>\n",
       "      <td>-0.455</td>\n",
       "      <td>0.081</td>\n",
       "      <td>-0.607</td>\n",
       "      <td>-0.303</td>\n",
       "      <td>0.002</td>\n",
       "      <td>0.001</td>\n",
       "      <td>1505.0</td>\n",
       "      <td>1625.0</td>\n",
       "      <td>1.0</td>\n",
       "    </tr>\n",
       "    <tr>\n",
       "      <th>contact:intention[1, 1]</th>\n",
       "      <td>-1.279</td>\n",
       "      <td>0.099</td>\n",
       "      <td>-1.473</td>\n",
       "      <td>-1.109</td>\n",
       "      <td>0.003</td>\n",
       "      <td>0.002</td>\n",
       "      <td>1326.0</td>\n",
       "      <td>1456.0</td>\n",
       "      <td>1.0</td>\n",
       "    </tr>\n",
       "  </tbody>\n",
       "</table>\n",
       "</div>"
      ],
      "text/plain": [
       "                          mean     sd  hdi_3%  hdi_97%  mcse_mean  mcse_sd  \\\n",
       "action[1]               -0.463  0.054  -0.564   -0.360      0.001    0.001   \n",
       "intention[1]            -0.274  0.058  -0.380   -0.161      0.002    0.001   \n",
       "contact[1]              -0.325  0.068  -0.445   -0.189      0.002    0.001   \n",
       "action:intention[1, 1]  -0.455  0.081  -0.607   -0.303      0.002    0.001   \n",
       "contact:intention[1, 1] -1.279  0.099  -1.473   -1.109      0.003    0.002   \n",
       "\n",
       "                         ess_bulk  ess_tail  r_hat  \n",
       "action[1]                  1418.0    1691.0    1.0  \n",
       "intention[1]               1264.0    1446.0    1.0  \n",
       "contact[1]                 1203.0    1310.0    1.0  \n",
       "action:intention[1, 1]     1505.0    1625.0    1.0  \n",
       "contact:intention[1, 1]    1326.0    1456.0    1.0  "
      ]
     },
     "execution_count": 13,
     "metadata": {},
     "output_type": "execute_result"
    }
   ],
   "source": [
    "az.summary(\n",
    "    idata, \n",
    "    var_names=[\"action\", \"intention\", \"contact\", \n",
    "               \"action:intention\", \"contact:intention\"]\n",
    ")"
   ]
  },
  {
   "cell_type": "markdown",
   "metadata": {},
   "source": [
    "The posterior distribution of the slopes are all negative indicating that each of these story features reduces the rating—the acceptability of the story. Below, a forest plot is used to make this insight more clear."
   ]
  },
  {
   "cell_type": "code",
   "execution_count": 14,
   "metadata": {},
   "outputs": [
    {
     "data": {
      "image/png": "[encoded data removed]",
      "text/plain": [
       "<Figure size 700x300 with 1 Axes>"
      ]
     },
     "metadata": {},
     "output_type": "display_data"
    }
   ],
   "source": [
    "az.plot_forest(\n",
    "    idata,\n",
    "    combined=True,\n",
    "    var_names=[\"action\", \"intention\", \"contact\", \n",
    "               \"action:intention\", \"contact:intention\"],\n",
    "    figsize=(7, 3),\n",
    "    textsize=11\n",
    ");"
   ]
  },
  {
   "cell_type": "markdown",
   "metadata": {},
   "source": [
    "Again, we can plot the cumulative probability of each category. Compared to the same plot above, notice how most of the category probabilities have been shifted to the left. Additionally, there is more uncertainty for category 3, 4, and 5."
   ]
  },
  {
   "cell_type": "code",
   "execution_count": 15,
   "metadata": {},
   "outputs": [
    {
     "data": {
      "image/png": "[encoded data removed]",
      "text/plain": [
       "<Figure size 700x300 with 1 Axes>"
      ]
     },
     "metadata": {},
     "output_type": "display_data"
    }
   ],
   "source": [
    "fig, ax = plt.subplots(figsize=(7, 3))\n",
    "for i in range(6):\n",
    "    outcome = expit_func(idata.posterior.threshold).sel(threshold_dim=i).to_numpy().flatten()\n",
    "    ax.hist(outcome, bins=15, alpha=0.5, label=f\"Category: {i}\")\n",
    "ax.set_xlabel(\"Probability\")\n",
    "ax.set_ylabel(\"Count\")\n",
    "ax.set_title(\"Cumulative Probability by Category\")\n",
    "ax.legend(bbox_to_anchor=(1.04, 1), loc=\"upper left\");"
   ]
  },
  {
   "cell_type": "markdown",
   "metadata": {},
   "source": [
    "### Posterior predictive distribution\n",
    "\n",
    "To get a sense of how well the ordinal model fits the data, we can plot samples from the posterior predictive distribution. To plot the samples, a utility function is defined below to assist in the plotting of discrete values."
   ]
  },
  {
   "cell_type": "code",
   "execution_count": 16,
   "metadata": {},
   "outputs": [],
   "source": [
    "def adjust_lightness(color, amount=0.5):\n",
    "    import matplotlib.colors as mc\n",
    "    import colorsys\n",
    "    try:\n",
    "        c = mc.cnames[color]\n",
    "    except:\n",
    "        c = color\n",
    "    c = colorsys.rgb_to_hls(*mc.to_rgb(c))\n",
    "    return colorsys.hls_to_rgb(c[0], c[1] * amount, c[2])\n",
    "\n",
    "def plot_ppc_discrete(idata, bins, ax):\n",
    "    \n",
    "    def add_discrete_bands(x, lower, upper, ax, **kwargs):\n",
    "        for i, (l, u) in enumerate(zip(lower, upper)):\n",
    "            s = slice(i, i + 2)\n",
    "            ax.fill_between(x[s], [l, l], [u, u], **kwargs)\n",
    "\n",
    "    var_name = list(idata.observed_data.data_vars)[0]\n",
    "    y_obs = idata.observed_data[var_name].to_numpy()\n",
    "    \n",
    "    counts_list = []\n",
    "    for draw_values in az.extract(idata, \"posterior_predictive\")[var_name].to_numpy().T:\n",
    "        counts, _ = np.histogram(draw_values, bins=bins)\n",
    "        counts_list.append(counts)\n",
    "    counts_arr = np.stack(counts_list)\n",
    "\n",
    "    qts_90 = np.quantile(counts_arr, (0.05, 0.95), axis=0)\n",
    "    qts_70 = np.quantile(counts_arr, (0.15, 0.85), axis=0)\n",
    "    qts_50 = np.quantile(counts_arr, (0.25, 0.75), axis=0)\n",
    "    qts_30 = np.quantile(counts_arr, (0.35, 0.65), axis=0)\n",
    "    median = np.quantile(counts_arr, 0.5, axis=0)\n",
    "\n",
    "    colors = [adjust_lightness(\"C0\", x) for x in [1.8, 1.6, 1.4, 1.2, 0.9]]\n",
    "\n",
    "    add_discrete_bands(bins, qts_90[0], qts_90[1], ax=ax, color=colors[0])\n",
    "    add_discrete_bands(bins, qts_70[0], qts_70[1], ax=ax, color=colors[1])\n",
    "    add_discrete_bands(bins, qts_50[0], qts_50[1], ax=ax, color=colors[2])\n",
    "    add_discrete_bands(bins, qts_30[0], qts_30[1], ax=ax, color=colors[3])\n",
    "\n",
    "    \n",
    "    ax.step(bins[:-1], median, color=colors[4], lw=2, where=\"post\")\n",
    "    ax.hist(y_obs, bins=bins, histtype=\"step\", lw=2, color=\"black\", align=\"mid\")\n",
    "    handles = [\n",
    "        Line2D([], [], label=\"Observed data\", color=\"black\", lw=2),\n",
    "        Line2D([], [], label=\"Posterior predictive median\", color=colors[4], lw=2)\n",
    "    ]\n",
    "    ax.legend(handles=handles)\n",
    "    return ax"
   ]
  },
  {
   "cell_type": "code",
   "execution_count": 17,
   "metadata": {},
   "outputs": [
    {
     "data": {
      "image/png": "[encoded data removed]",
      "text/plain": [
       "<Figure size 700x300 with 1 Axes>"
      ]
     },
     "metadata": {},
     "output_type": "display_data"
    }
   ],
   "source": [
    "idata_pps = model.predict(idata=idata, kind=\"response\", inplace=False)\n",
    "\n",
    "bins = np.arange(7)\n",
    "fig, ax = plt.subplots(figsize=(7, 3))\n",
    "ax = plot_ppc_discrete(idata_pps, bins, ax)\n",
    "ax.set_xlabel(\"Response category\")\n",
    "ax.set_ylabel(\"Count\")\n",
    "ax.set_title(\"Cumulative model - Posterior Predictive Distribution\");"
   ]
  },
  {
   "cell_type": "markdown",
   "metadata": {},
   "source": [
    "## Sequential Model\n",
    "\n",
    "For some ordinal variables, the assumption of a **single** underlying continuous variable (as in cumulative models) may not be appropriate. If the response can be understood as being the result of a sequential process, such that a higher response category is possible only after all lower categories are achieved, then a sequential model may be more appropriate than a cumulative model.\n",
    "\n",
    "Sequential models assume that for **every** category $k$ there is a latent continuous variable $Z$ that determines the transition between categories $k$ and $k+1$. Now, a threshold $\\tau$ belongs to each latent process. If there are 3 categories, then there are 3 latent processes. If $Z_k$ is greater than the threshold $\\tau_k$, the sequential process continues, otherwise it stops at category $k$. As with the cumulative model, we assume a distribution for $Z_k$ with a cumulative distribution function $F$.\n",
    "\n",
    "As an example, lets suppose we are interested in modeling the probability a boxer makes it to round 3. This implies that the particular boxer in question survived round 1 $Z_1 > \\tau_1$ , 2 $Z_2 > \\tau_2$, and 3 $Z_3 > \\tau_3$. This can be written as \n",
    "\n",
    "$$Pr(Y = 3) = (1 - P(Z_1 \\leq \\tau_1)) * (1 - P(Z_2 \\leq \\tau_2)) * P(Z_3 \\leq \\tau_3)$$\n",
    "\n",
    "As in the cumulative model above, if we assume $Y$ to be normally distributed with the thresholds $\\tau_1 = -1, \\tau_2 = 0, \\tau_3 = 1$ and cumulative distribution function $\\Phi$ then\n",
    "\n",
    "$$Pr(Y = 3) = (1 - \\Phi(\\tau_1)) * (1 - \\Phi(\\tau_2)) * \\Phi(\\tau_3)$$\n",
    "\n",
    "To add predictors to this sequential model, we follow the same specification in the _Adding Predictors_ section above. Thus, the sequential model with predictor terms becomes\n",
    "\n",
    "$$P(Y = k) = F(\\tau_k - \\eta) * \\prod_{j=1}^{k-1}{(1 - F(\\tau_j - \\eta))}$$\n",
    "\n",
    "Thus, the probability that $Y$ is equal to category $k$ is equal to the probability that it did not fall in one of the former categories $1: k-1$ multiplied by the probability that the sequential process stopped at $k$ rather than continuing past it."
   ]
  },
  {
   "cell_type": "markdown",
   "metadata": {},
   "source": [
    "### Human resources attrition dataset\n",
    "\n",
    "To illustrate an sequential model with a stopping ratio link function, we will use data from the IBM human resources employee attrition and performance [dataset](https://www.kaggle.com/datasets/pavansubhasht/ibm-hr-analytics-attrition-dataset). The original dataset contains 1470 rows and 35 columns. However, our goal is to model the total working years of employees using age as a predictor. This data lends itself to a sequential model as the response, total working years, is a sequential process. In order to have 10 years of working experience, it is necessarily true that the employee had 9 years of working experience. Additionally, age is choosen as a predictor as it is positively correlated with total working years."
   ]
  },
  {
   "cell_type": "code",
   "execution_count": 18,
   "metadata": {},
   "outputs": [
    {
     "data": {
      "text/html": [
       "<div>\n",
       "<style scoped>\n",
       "    .dataframe tbody tr th:only-of-type {\n",
       "        vertical-align: middle;\n",
       "    }\n",
       "\n",
       "    .dataframe tbody tr th {\n",
       "        vertical-align: top;\n",
       "    }\n",
       "\n",
       "    .dataframe thead th {\n",
       "        text-align: right;\n",
       "    }\n",
       "</style>\n",
       "<table border=\"1\" class=\"dataframe\">\n",
       "  <thead>\n",
       "    <tr style=\"text-align: right;\">\n",
       "      <th></th>\n",
       "      <th>YearsAtCompany</th>\n",
       "      <th>Age</th>\n",
       "    </tr>\n",
       "  </thead>\n",
       "  <tbody>\n",
       "    <tr>\n",
       "      <th>1</th>\n",
       "      <td>10</td>\n",
       "      <td>49</td>\n",
       "    </tr>\n",
       "    <tr>\n",
       "      <th>3</th>\n",
       "      <td>8</td>\n",
       "      <td>33</td>\n",
       "    </tr>\n",
       "    <tr>\n",
       "      <th>4</th>\n",
       "      <td>2</td>\n",
       "      <td>27</td>\n",
       "    </tr>\n",
       "    <tr>\n",
       "      <th>5</th>\n",
       "      <td>7</td>\n",
       "      <td>32</td>\n",
       "    </tr>\n",
       "    <tr>\n",
       "      <th>6</th>\n",
       "      <td>1</td>\n",
       "      <td>59</td>\n",
       "    </tr>\n",
       "  </tbody>\n",
       "</table>\n",
       "</div>"
      ],
      "text/plain": [
       "  YearsAtCompany  Age\n",
       "1             10   49\n",
       "3              8   33\n",
       "4              2   27\n",
       "5              7   32\n",
       "6              1   59"
      ]
     },
     "execution_count": 18,
     "metadata": {},
     "output_type": "execute_result"
    }
   ],
   "source": [
    "attrition = pd.read_csv(\"data/hr_employee_attrition.tsv.txt\", sep=\"\\t\")\n",
    "attrition = attrition[attrition[\"Attrition\"] == \"No\"]\n",
    "attrition[\"YearsAtCompany\"] = pd.Categorical(attrition[\"YearsAtCompany\"], ordered=True)\n",
    "attrition[[\"YearsAtCompany\", \"Age\"]].head()"
   ]
  },
  {
   "cell_type": "markdown",
   "metadata": {},
   "source": [
    "Below, the empirical probabilities of the response categories are computed. Employees are most likely to stay at the company between 1 and 10 years."
   ]
  },
  {
   "cell_type": "code",
   "execution_count": 19,
   "metadata": {},
   "outputs": [
    {
     "data": {
      "image/png": "[encoded data removed]",
      "text/plain": [
       "<Figure size 700x300 with 1 Axes>"
      ]
     },
     "metadata": {},
     "output_type": "display_data"
    }
   ],
   "source": [
    "pr_k = attrition.YearsAtCompany.value_counts().sort_index().values / attrition.shape[0]\n",
    "\n",
    "plt.figure(figsize=(7, 3))\n",
    "plt.bar(np.arange(0, 36), pr_k)\n",
    "plt.xlabel(\"Response category\")\n",
    "plt.ylabel(\"Probability\")\n",
    "plt.title(\"Empirical probability of each response category\");"
   ]
  },
  {
   "cell_type": "markdown",
   "metadata": {},
   "source": [
    "### Default prior of thresholds\n",
    "\n",
    "Before we fit the sequential model, it's worth mentioning that the default priors for the thresholds in a sequential model are different than the cumulative model. In the cumulative model, the default prior for the thresholds is a Normal distribution with a grid of evenly spaced $\\mu$ where an ordered transformation is applied to ensure the ordering of the values. However, in the sequential model, the ordering of the thresholds does not matter. Thus, the default prior for the thresholds is a Normal distribution with a zero $\\mu$ vector of length $k - 1$ where $k$ is the number of response levels. Refer to the [getting started](https://bambinos.github.io/bambi/notebooks/getting_started.html#specifying-priors) docs if you need a refresher on priors in Bambi. \n",
    "\n",
    "Subsequently, fitting a sequential model is similar to fitting a cumulative model. The only difference is that we pass `family=\"sratio\"` to the `bambi.Model` constructor. "
   ]
  },
  {
   "cell_type": "code",
   "execution_count": 20,
   "metadata": {},
   "outputs": [
    {
     "name": "stderr",
     "output_type": "stream",
     "text": [
      "Auto-assigning NUTS sampler...\n",
      "Initializing NUTS using jitter+adapt_diag...\n",
      "Multiprocess sampling (2 chains in 2 jobs)\n",
      "NUTS: [threshold, TotalWorkingYears]\n"
     ]
    },
    {
     "data": {
      "application/vnd.jupyter.widget-view+json": {
       "model_id": "4f54440683794514b86bd0ef57029e8c",
       "version_major": 2,
       "version_minor": 0
      },
      "text/plain": [
       "Output()"
      ]
     },
     "metadata": {},
     "output_type": "display_data"
    },
    {
     "data": {
      "text/html": [
       "<pre style=\"white-space:pre;overflow-x:auto;line-height:normal;font-family:Menlo,'DejaVu Sans Mono',consolas,'Courier New',monospace\"></pre>\n"
      ],
      "text/plain": []
     },
     "metadata": {},
     "output_type": "display_data"
    },
    {
     "data": {
      "text/html": [
       "<pre style=\"white-space:pre;overflow-x:auto;line-height:normal;font-family:Menlo,'DejaVu Sans Mono',consolas,'Courier New',monospace\">\n",
       "</pre>\n"
      ],
      "text/plain": [
       "\n"
      ]
     },
     "metadata": {},
     "output_type": "display_data"
    },
    {
     "name": "stderr",
     "output_type": "stream",
     "text": [
      "Sampling 2 chains for 1_000 tune and 1_000 draw iterations (2_000 + 2_000 draws total) took 370 seconds.\n",
      "We recommend running at least 4 chains for robust computation of convergence diagnostics\n"
     ]
    }
   ],
   "source": [
    "sequence_model = bmb.Model(\n",
    "    \"YearsAtCompany ~ 0 + TotalWorkingYears\", \n",
    "    data=attrition, \n",
    "    family=\"sratio\"\n",
    ")\n",
    "sequence_idata = sequence_model.fit(random_seed=1234)"
   ]
  },
  {
   "cell_type": "code",
   "execution_count": 21,
   "metadata": {},
   "outputs": [
    {
     "data": {
      "text/plain": [
       "       Formula: YearsAtCompany ~ 0 + TotalWorkingYears\n",
       "        Family: sratio\n",
       "          Link: p = logit\n",
       "  Observations: 1233\n",
       "        Priors: \n",
       "    target = p\n",
       "        Common-level effects\n",
       "            TotalWorkingYears ~ Normal(mu: 0.0, sigma: 0.3223)\n",
       "        \n",
       "        Auxiliary parameters\n",
       "            threshold ~ Normal(mu: [0. 0. 0. 0. 0. 0. 0. 0. 0. 0. 0. 0. 0. 0. 0. 0. 0. 0. 0. 0. 0. 0. 0. 0.\n",
       "             0. 0. 0. 0. 0. 0. 0. 0. 0. 0. 0.], sigma: 1.0)\n",
       "------\n",
       "* To see a plot of the priors call the .plot_priors() method.\n",
       "* To see a summary or plot of the posterior pass the object returned by .fit() to az.summary() or az.plot_trace()"
      ]
     },
     "execution_count": 21,
     "metadata": {},
     "output_type": "execute_result"
    }
   ],
   "source": [
    "sequence_model"
   ]
  },
  {
   "cell_type": "code",
   "execution_count": 22,
   "metadata": {},
   "outputs": [
    {
     "data": {
      "text/html": [
       "<div>\n",
       "<style scoped>\n",
       "    .dataframe tbody tr th:only-of-type {\n",
       "        vertical-align: middle;\n",
       "    }\n",
       "\n",
       "    .dataframe tbody tr th {\n",
       "        vertical-align: top;\n",
       "    }\n",
       "\n",
       "    .dataframe thead th {\n",
       "        text-align: right;\n",
       "    }\n",
       "</style>\n",
       "<table border=\"1\" class=\"dataframe\">\n",
       "  <thead>\n",
       "    <tr style=\"text-align: right;\">\n",
       "      <th></th>\n",
       "      <th>mean</th>\n",
       "      <th>sd</th>\n",
       "      <th>hdi_3%</th>\n",
       "      <th>hdi_97%</th>\n",
       "      <th>mcse_mean</th>\n",
       "      <th>mcse_sd</th>\n",
       "      <th>ess_bulk</th>\n",
       "      <th>ess_tail</th>\n",
       "      <th>r_hat</th>\n",
       "    </tr>\n",
       "  </thead>\n",
       "  <tbody>\n",
       "    <tr>\n",
       "      <th>TotalWorkingYears</th>\n",
       "      <td>0.127</td>\n",
       "      <td>0.006</td>\n",
       "      <td>0.117</td>\n",
       "      <td>0.138</td>\n",
       "      <td>0.000</td>\n",
       "      <td>0.000</td>\n",
       "      <td>458.0</td>\n",
       "      <td>719.0</td>\n",
       "      <td>1.00</td>\n",
       "    </tr>\n",
       "    <tr>\n",
       "      <th>threshold[0]</th>\n",
       "      <td>-2.518</td>\n",
       "      <td>0.188</td>\n",
       "      <td>-2.849</td>\n",
       "      <td>-2.154</td>\n",
       "      <td>0.004</td>\n",
       "      <td>0.003</td>\n",
       "      <td>2139.0</td>\n",
       "      <td>893.0</td>\n",
       "      <td>1.00</td>\n",
       "    </tr>\n",
       "    <tr>\n",
       "      <th>threshold[1]</th>\n",
       "      <td>-1.051</td>\n",
       "      <td>0.106</td>\n",
       "      <td>-1.253</td>\n",
       "      <td>-0.861</td>\n",
       "      <td>0.003</td>\n",
       "      <td>0.002</td>\n",
       "      <td>1668.0</td>\n",
       "      <td>1416.0</td>\n",
       "      <td>1.00</td>\n",
       "    </tr>\n",
       "    <tr>\n",
       "      <th>threshold[2]</th>\n",
       "      <td>-1.014</td>\n",
       "      <td>0.117</td>\n",
       "      <td>-1.237</td>\n",
       "      <td>-0.806</td>\n",
       "      <td>0.003</td>\n",
       "      <td>0.002</td>\n",
       "      <td>1480.0</td>\n",
       "      <td>1458.0</td>\n",
       "      <td>1.00</td>\n",
       "    </tr>\n",
       "    <tr>\n",
       "      <th>threshold[3]</th>\n",
       "      <td>-0.757</td>\n",
       "      <td>0.113</td>\n",
       "      <td>-0.973</td>\n",
       "      <td>-0.554</td>\n",
       "      <td>0.003</td>\n",
       "      <td>0.002</td>\n",
       "      <td>1200.0</td>\n",
       "      <td>1390.0</td>\n",
       "      <td>1.00</td>\n",
       "    </tr>\n",
       "    <tr>\n",
       "      <th>threshold[4]</th>\n",
       "      <td>-0.759</td>\n",
       "      <td>0.122</td>\n",
       "      <td>-0.978</td>\n",
       "      <td>-0.521</td>\n",
       "      <td>0.003</td>\n",
       "      <td>0.002</td>\n",
       "      <td>1394.0</td>\n",
       "      <td>1346.0</td>\n",
       "      <td>1.00</td>\n",
       "    </tr>\n",
       "    <tr>\n",
       "      <th>threshold[5]</th>\n",
       "      <td>0.250</td>\n",
       "      <td>0.108</td>\n",
       "      <td>0.060</td>\n",
       "      <td>0.458</td>\n",
       "      <td>0.003</td>\n",
       "      <td>0.002</td>\n",
       "      <td>1069.0</td>\n",
       "      <td>1283.0</td>\n",
       "      <td>1.00</td>\n",
       "    </tr>\n",
       "    <tr>\n",
       "      <th>threshold[6]</th>\n",
       "      <td>-0.505</td>\n",
       "      <td>0.148</td>\n",
       "      <td>-0.790</td>\n",
       "      <td>-0.228</td>\n",
       "      <td>0.004</td>\n",
       "      <td>0.003</td>\n",
       "      <td>1436.0</td>\n",
       "      <td>1496.0</td>\n",
       "      <td>1.00</td>\n",
       "    </tr>\n",
       "    <tr>\n",
       "      <th>threshold[7]</th>\n",
       "      <td>-0.085</td>\n",
       "      <td>0.138</td>\n",
       "      <td>-0.338</td>\n",
       "      <td>0.171</td>\n",
       "      <td>0.004</td>\n",
       "      <td>0.003</td>\n",
       "      <td>1373.0</td>\n",
       "      <td>1364.0</td>\n",
       "      <td>1.00</td>\n",
       "    </tr>\n",
       "    <tr>\n",
       "      <th>threshold[8]</th>\n",
       "      <td>0.028</td>\n",
       "      <td>0.143</td>\n",
       "      <td>-0.228</td>\n",
       "      <td>0.305</td>\n",
       "      <td>0.005</td>\n",
       "      <td>0.003</td>\n",
       "      <td>980.0</td>\n",
       "      <td>1503.0</td>\n",
       "      <td>1.00</td>\n",
       "    </tr>\n",
       "    <tr>\n",
       "      <th>threshold[9]</th>\n",
       "      <td>0.388</td>\n",
       "      <td>0.151</td>\n",
       "      <td>0.101</td>\n",
       "      <td>0.662</td>\n",
       "      <td>0.004</td>\n",
       "      <td>0.003</td>\n",
       "      <td>1306.0</td>\n",
       "      <td>1373.0</td>\n",
       "      <td>1.00</td>\n",
       "    </tr>\n",
       "    <tr>\n",
       "      <th>threshold[10]</th>\n",
       "      <td>1.269</td>\n",
       "      <td>0.153</td>\n",
       "      <td>0.948</td>\n",
       "      <td>1.523</td>\n",
       "      <td>0.005</td>\n",
       "      <td>0.004</td>\n",
       "      <td>801.0</td>\n",
       "      <td>1164.0</td>\n",
       "      <td>1.00</td>\n",
       "    </tr>\n",
       "    <tr>\n",
       "      <th>threshold[11]</th>\n",
       "      <td>0.440</td>\n",
       "      <td>0.218</td>\n",
       "      <td>0.061</td>\n",
       "      <td>0.871</td>\n",
       "      <td>0.006</td>\n",
       "      <td>0.004</td>\n",
       "      <td>1224.0</td>\n",
       "      <td>1354.0</td>\n",
       "      <td>1.00</td>\n",
       "    </tr>\n",
       "    <tr>\n",
       "      <th>threshold[12]</th>\n",
       "      <td>-0.105</td>\n",
       "      <td>0.297</td>\n",
       "      <td>-0.643</td>\n",
       "      <td>0.454</td>\n",
       "      <td>0.007</td>\n",
       "      <td>0.006</td>\n",
       "      <td>1733.0</td>\n",
       "      <td>1697.0</td>\n",
       "      <td>1.00</td>\n",
       "    </tr>\n",
       "    <tr>\n",
       "      <th>threshold[13]</th>\n",
       "      <td>0.517</td>\n",
       "      <td>0.242</td>\n",
       "      <td>0.084</td>\n",
       "      <td>0.992</td>\n",
       "      <td>0.007</td>\n",
       "      <td>0.005</td>\n",
       "      <td>1361.0</td>\n",
       "      <td>1272.0</td>\n",
       "      <td>1.00</td>\n",
       "    </tr>\n",
       "    <tr>\n",
       "      <th>threshold[14]</th>\n",
       "      <td>0.390</td>\n",
       "      <td>0.280</td>\n",
       "      <td>-0.151</td>\n",
       "      <td>0.910</td>\n",
       "      <td>0.007</td>\n",
       "      <td>0.005</td>\n",
       "      <td>1730.0</td>\n",
       "      <td>1358.0</td>\n",
       "      <td>1.00</td>\n",
       "    </tr>\n",
       "    <tr>\n",
       "      <th>threshold[15]</th>\n",
       "      <td>0.797</td>\n",
       "      <td>0.264</td>\n",
       "      <td>0.289</td>\n",
       "      <td>1.273</td>\n",
       "      <td>0.007</td>\n",
       "      <td>0.005</td>\n",
       "      <td>1632.0</td>\n",
       "      <td>1534.0</td>\n",
       "      <td>1.00</td>\n",
       "    </tr>\n",
       "    <tr>\n",
       "      <th>threshold[16]</th>\n",
       "      <td>0.426</td>\n",
       "      <td>0.335</td>\n",
       "      <td>-0.193</td>\n",
       "      <td>1.066</td>\n",
       "      <td>0.008</td>\n",
       "      <td>0.006</td>\n",
       "      <td>1787.0</td>\n",
       "      <td>1330.0</td>\n",
       "      <td>1.00</td>\n",
       "    </tr>\n",
       "    <tr>\n",
       "      <th>threshold[17]</th>\n",
       "      <td>0.249</td>\n",
       "      <td>0.372</td>\n",
       "      <td>-0.444</td>\n",
       "      <td>0.944</td>\n",
       "      <td>0.010</td>\n",
       "      <td>0.007</td>\n",
       "      <td>1390.0</td>\n",
       "      <td>1357.0</td>\n",
       "      <td>1.00</td>\n",
       "    </tr>\n",
       "    <tr>\n",
       "      <th>threshold[18]</th>\n",
       "      <td>0.794</td>\n",
       "      <td>0.335</td>\n",
       "      <td>0.180</td>\n",
       "      <td>1.423</td>\n",
       "      <td>0.008</td>\n",
       "      <td>0.006</td>\n",
       "      <td>1591.0</td>\n",
       "      <td>1638.0</td>\n",
       "      <td>1.00</td>\n",
       "    </tr>\n",
       "    <tr>\n",
       "      <th>threshold[19]</th>\n",
       "      <td>0.793</td>\n",
       "      <td>0.370</td>\n",
       "      <td>0.110</td>\n",
       "      <td>1.499</td>\n",
       "      <td>0.009</td>\n",
       "      <td>0.007</td>\n",
       "      <td>1689.0</td>\n",
       "      <td>1201.0</td>\n",
       "      <td>1.00</td>\n",
       "    </tr>\n",
       "    <tr>\n",
       "      <th>threshold[20]</th>\n",
       "      <td>2.201</td>\n",
       "      <td>0.272</td>\n",
       "      <td>1.723</td>\n",
       "      <td>2.725</td>\n",
       "      <td>0.008</td>\n",
       "      <td>0.006</td>\n",
       "      <td>1133.0</td>\n",
       "      <td>1333.0</td>\n",
       "      <td>1.00</td>\n",
       "    </tr>\n",
       "    <tr>\n",
       "      <th>threshold[21]</th>\n",
       "      <td>1.842</td>\n",
       "      <td>0.349</td>\n",
       "      <td>1.177</td>\n",
       "      <td>2.449</td>\n",
       "      <td>0.009</td>\n",
       "      <td>0.007</td>\n",
       "      <td>1388.0</td>\n",
       "      <td>1316.0</td>\n",
       "      <td>1.00</td>\n",
       "    </tr>\n",
       "    <tr>\n",
       "      <th>threshold[22]</th>\n",
       "      <td>2.444</td>\n",
       "      <td>0.342</td>\n",
       "      <td>1.762</td>\n",
       "      <td>3.046</td>\n",
       "      <td>0.009</td>\n",
       "      <td>0.006</td>\n",
       "      <td>1544.0</td>\n",
       "      <td>1429.0</td>\n",
       "      <td>1.00</td>\n",
       "    </tr>\n",
       "    <tr>\n",
       "      <th>threshold[23]</th>\n",
       "      <td>0.030</td>\n",
       "      <td>0.724</td>\n",
       "      <td>-1.373</td>\n",
       "      <td>1.291</td>\n",
       "      <td>0.013</td>\n",
       "      <td>0.016</td>\n",
       "      <td>3182.0</td>\n",
       "      <td>1571.0</td>\n",
       "      <td>1.00</td>\n",
       "    </tr>\n",
       "    <tr>\n",
       "      <th>threshold[24]</th>\n",
       "      <td>1.587</td>\n",
       "      <td>0.538</td>\n",
       "      <td>0.516</td>\n",
       "      <td>2.535</td>\n",
       "      <td>0.013</td>\n",
       "      <td>0.009</td>\n",
       "      <td>1902.0</td>\n",
       "      <td>1429.0</td>\n",
       "      <td>1.00</td>\n",
       "    </tr>\n",
       "    <tr>\n",
       "      <th>threshold[25]</th>\n",
       "      <td>1.507</td>\n",
       "      <td>0.597</td>\n",
       "      <td>0.292</td>\n",
       "      <td>2.507</td>\n",
       "      <td>0.011</td>\n",
       "      <td>0.008</td>\n",
       "      <td>2841.0</td>\n",
       "      <td>1557.0</td>\n",
       "      <td>1.00</td>\n",
       "    </tr>\n",
       "    <tr>\n",
       "      <th>threshold[26]</th>\n",
       "      <td>1.735</td>\n",
       "      <td>0.632</td>\n",
       "      <td>0.582</td>\n",
       "      <td>2.871</td>\n",
       "      <td>0.012</td>\n",
       "      <td>0.008</td>\n",
       "      <td>3066.0</td>\n",
       "      <td>1220.0</td>\n",
       "      <td>1.01</td>\n",
       "    </tr>\n",
       "    <tr>\n",
       "      <th>threshold[27]</th>\n",
       "      <td>1.047</td>\n",
       "      <td>0.749</td>\n",
       "      <td>-0.325</td>\n",
       "      <td>2.439</td>\n",
       "      <td>0.014</td>\n",
       "      <td>0.010</td>\n",
       "      <td>2780.0</td>\n",
       "      <td>1363.0</td>\n",
       "      <td>1.00</td>\n",
       "    </tr>\n",
       "    <tr>\n",
       "      <th>threshold[28]</th>\n",
       "      <td>1.156</td>\n",
       "      <td>0.755</td>\n",
       "      <td>-0.300</td>\n",
       "      <td>2.467</td>\n",
       "      <td>0.014</td>\n",
       "      <td>0.010</td>\n",
       "      <td>2965.0</td>\n",
       "      <td>1382.0</td>\n",
       "      <td>1.00</td>\n",
       "    </tr>\n",
       "    <tr>\n",
       "      <th>threshold[29]</th>\n",
       "      <td>0.543</td>\n",
       "      <td>0.850</td>\n",
       "      <td>-1.078</td>\n",
       "      <td>2.144</td>\n",
       "      <td>0.016</td>\n",
       "      <td>0.016</td>\n",
       "      <td>2806.0</td>\n",
       "      <td>1360.0</td>\n",
       "      <td>1.00</td>\n",
       "    </tr>\n",
       "    <tr>\n",
       "      <th>threshold[30]</th>\n",
       "      <td>1.268</td>\n",
       "      <td>0.788</td>\n",
       "      <td>-0.124</td>\n",
       "      <td>2.844</td>\n",
       "      <td>0.014</td>\n",
       "      <td>0.012</td>\n",
       "      <td>3180.0</td>\n",
       "      <td>1638.0</td>\n",
       "      <td>1.00</td>\n",
       "    </tr>\n",
       "    <tr>\n",
       "      <th>threshold[31]</th>\n",
       "      <td>1.373</td>\n",
       "      <td>0.781</td>\n",
       "      <td>-0.118</td>\n",
       "      <td>2.799</td>\n",
       "      <td>0.014</td>\n",
       "      <td>0.011</td>\n",
       "      <td>2961.0</td>\n",
       "      <td>1629.0</td>\n",
       "      <td>1.00</td>\n",
       "    </tr>\n",
       "    <tr>\n",
       "      <th>threshold[32]</th>\n",
       "      <td>2.653</td>\n",
       "      <td>0.732</td>\n",
       "      <td>1.315</td>\n",
       "      <td>4.084</td>\n",
       "      <td>0.015</td>\n",
       "      <td>0.011</td>\n",
       "      <td>2384.0</td>\n",
       "      <td>1292.0</td>\n",
       "      <td>1.00</td>\n",
       "    </tr>\n",
       "    <tr>\n",
       "      <th>threshold[33]</th>\n",
       "      <td>0.861</td>\n",
       "      <td>0.942</td>\n",
       "      <td>-0.994</td>\n",
       "      <td>2.554</td>\n",
       "      <td>0.014</td>\n",
       "      <td>0.016</td>\n",
       "      <td>4345.0</td>\n",
       "      <td>1567.0</td>\n",
       "      <td>1.00</td>\n",
       "    </tr>\n",
       "    <tr>\n",
       "      <th>threshold[34]</th>\n",
       "      <td>1.757</td>\n",
       "      <td>0.892</td>\n",
       "      <td>0.128</td>\n",
       "      <td>3.399</td>\n",
       "      <td>0.018</td>\n",
       "      <td>0.013</td>\n",
       "      <td>2441.0</td>\n",
       "      <td>1202.0</td>\n",
       "      <td>1.00</td>\n",
       "    </tr>\n",
       "  </tbody>\n",
       "</table>\n",
       "</div>"
      ],
      "text/plain": [
       "                    mean     sd  hdi_3%  hdi_97%  mcse_mean  mcse_sd  \\\n",
       "TotalWorkingYears  0.127  0.006   0.117    0.138      0.000    0.000   \n",
       "threshold[0]      -2.518  0.188  -2.849   -2.154      0.004    0.003   \n",
       "threshold[1]      -1.051  0.106  -1.253   -0.861      0.003    0.002   \n",
       "threshold[2]      -1.014  0.117  -1.237   -0.806      0.003    0.002   \n",
       "threshold[3]      -0.757  0.113  -0.973   -0.554      0.003    0.002   \n",
       "threshold[4]      -0.759  0.122  -0.978   -0.521      0.003    0.002   \n",
       "threshold[5]       0.250  0.108   0.060    0.458      0.003    0.002   \n",
       "threshold[6]      -0.505  0.148  -0.790   -0.228      0.004    0.003   \n",
       "threshold[7]      -0.085  0.138  -0.338    0.171      0.004    0.003   \n",
       "threshold[8]       0.028  0.143  -0.228    0.305      0.005    0.003   \n",
       "threshold[9]       0.388  0.151   0.101    0.662      0.004    0.003   \n",
       "threshold[10]      1.269  0.153   0.948    1.523      0.005    0.004   \n",
       "threshold[11]      0.440  0.218   0.061    0.871      0.006    0.004   \n",
       "threshold[12]     -0.105  0.297  -0.643    0.454      0.007    0.006   \n",
       "threshold[13]      0.517  0.242   0.084    0.992      0.007    0.005   \n",
       "threshold[14]      0.390  0.280  -0.151    0.910      0.007    0.005   \n",
       "threshold[15]      0.797  0.264   0.289    1.273      0.007    0.005   \n",
       "threshold[16]      0.426  0.335  -0.193    1.066      0.008    0.006   \n",
       "threshold[17]      0.249  0.372  -0.444    0.944      0.010    0.007   \n",
       "threshold[18]      0.794  0.335   0.180    1.423      0.008    0.006   \n",
       "threshold[19]      0.793  0.370   0.110    1.499      0.009    0.007   \n",
       "threshold[20]      2.201  0.272   1.723    2.725      0.008    0.006   \n",
       "threshold[21]      1.842  0.349   1.177    2.449      0.009    0.007   \n",
       "threshold[22]      2.444  0.342   1.762    3.046      0.009    0.006   \n",
       "threshold[23]      0.030  0.724  -1.373    1.291      0.013    0.016   \n",
       "threshold[24]      1.587  0.538   0.516    2.535      0.013    0.009   \n",
       "threshold[25]      1.507  0.597   0.292    2.507      0.011    0.008   \n",
       "threshold[26]      1.735  0.632   0.582    2.871      0.012    0.008   \n",
       "threshold[27]      1.047  0.749  -0.325    2.439      0.014    0.010   \n",
       "threshold[28]      1.156  0.755  -0.300    2.467      0.014    0.010   \n",
       "threshold[29]      0.543  0.850  -1.078    2.144      0.016    0.016   \n",
       "threshold[30]      1.268  0.788  -0.124    2.844      0.014    0.012   \n",
       "threshold[31]      1.373  0.781  -0.118    2.799      0.014    0.011   \n",
       "threshold[32]      2.653  0.732   1.315    4.084      0.015    0.011   \n",
       "threshold[33]      0.861  0.942  -0.994    2.554      0.014    0.016   \n",
       "threshold[34]      1.757  0.892   0.128    3.399      0.018    0.013   \n",
       "\n",
       "                   ess_bulk  ess_tail  r_hat  \n",
       "TotalWorkingYears     458.0     719.0   1.00  \n",
       "threshold[0]         2139.0     893.0   1.00  \n",
       "threshold[1]         1668.0    1416.0   1.00  \n",
       "threshold[2]         1480.0    1458.0   1.00  \n",
       "threshold[3]         1200.0    1390.0   1.00  \n",
       "threshold[4]         1394.0    1346.0   1.00  \n",
       "threshold[5]         1069.0    1283.0   1.00  \n",
       "threshold[6]         1436.0    1496.0   1.00  \n",
       "threshold[7]         1373.0    1364.0   1.00  \n",
       "threshold[8]          980.0    1503.0   1.00  \n",
       "threshold[9]         1306.0    1373.0   1.00  \n",
       "threshold[10]         801.0    1164.0   1.00  \n",
       "threshold[11]        1224.0    1354.0   1.00  \n",
       "threshold[12]        1733.0    1697.0   1.00  \n",
       "threshold[13]        1361.0    1272.0   1.00  \n",
       "threshold[14]        1730.0    1358.0   1.00  \n",
       "threshold[15]        1632.0    1534.0   1.00  \n",
       "threshold[16]        1787.0    1330.0   1.00  \n",
       "threshold[17]        1390.0    1357.0   1.00  \n",
       "threshold[18]        1591.0    1638.0   1.00  \n",
       "threshold[19]        1689.0    1201.0   1.00  \n",
       "threshold[20]        1133.0    1333.0   1.00  \n",
       "threshold[21]        1388.0    1316.0   1.00  \n",
       "threshold[22]        1544.0    1429.0   1.00  \n",
       "threshold[23]        3182.0    1571.0   1.00  \n",
       "threshold[24]        1902.0    1429.0   1.00  \n",
       "threshold[25]        2841.0    1557.0   1.00  \n",
       "threshold[26]        3066.0    1220.0   1.01  \n",
       "threshold[27]        2780.0    1363.0   1.00  \n",
       "threshold[28]        2965.0    1382.0   1.00  \n",
       "threshold[29]        2806.0    1360.0   1.00  \n",
       "threshold[30]        3180.0    1638.0   1.00  \n",
       "threshold[31]        2961.0    1629.0   1.00  \n",
       "threshold[32]        2384.0    1292.0   1.00  \n",
       "threshold[33]        4345.0    1567.0   1.00  \n",
       "threshold[34]        2441.0    1202.0   1.00  "
      ]
     },
     "execution_count": 22,
     "metadata": {},
     "output_type": "execute_result"
    }
   ],
   "source": [
    "az.summary(sequence_idata)"
   ]
  },
  {
   "cell_type": "markdown",
   "metadata": {},
   "source": [
    "The coefficients are still on the logits scale, so we need to apply the inverse of the logit function to transform back to probabilities. Below, we plot the probabilities for each category."
   ]
  },
  {
   "cell_type": "code",
   "execution_count": 23,
   "metadata": {},
   "outputs": [
    {
     "data": {
      "image/png": "[encoded data removed]",
      "text/plain": [
       "<Figure size 700x300 with 1 Axes>"
      ]
     },
     "metadata": {},
     "output_type": "display_data"
    }
   ],
   "source": [
    "probs = expit_func(sequence_idata.posterior.threshold).mean((\"chain\", \"draw\"))\n",
    "probs = np.append(probs, 1)\n",
    "\n",
    "plt.figure(figsize=(7, 3))\n",
    "plt.plot(sorted(attrition.YearsAtCompany.unique()), probs, marker='o')\n",
    "plt.ylabel(\"Probability\")\n",
    "plt.xlabel(\"Response category\");"
   ]
  },
  {
   "cell_type": "markdown",
   "metadata": {},
   "source": [
    "This plot can seem confusing at first. Remember, the sequential model is a product of probabilities, i.e., the probability that $Y$ is equal to category $k$ is equal to the probability that it did not fall in one of the former categories $1: k-1$ multiplied by the probability that the sequential process stopped at $k$. Thus, the probability of category 5 is the probability that the sequential process did not fall in 0, 1, 2, 3, or 4 multiplied by the probability that the sequential process stopped at 5. This makes sense why the probability of category 36 is 1. There is no category after 36, so once you multiply all of the previous probabilities with the current category, you get 1. This is the reason for the \"cumulative-like\" shape of the plot. But if the coefficients were truly cumulative, the probability could not decreases as $k$ increases. "
   ]
  },
  {
   "cell_type": "markdown",
   "metadata": {},
   "source": [
    "### Posterior predictive samples\n",
    "\n",
    "Again, using the posterior predictive samples, we can visualize the model fit against the observed data. In the case of the sequential model, the model does an alright job of capturing the observed frequencies of the categories. For pedagogical purposes, this fit is sufficient."
   ]
  },
  {
   "cell_type": "code",
   "execution_count": 24,
   "metadata": {},
   "outputs": [
    {
     "data": {
      "image/png": "[encoded data removed]",
      "text/plain": [
       "<Figure size 700x300 with 1 Axes>"
      ]
     },
     "metadata": {},
     "output_type": "display_data"
    }
   ],
   "source": [
    "idata_pps = model.predict(idata=idata, kind=\"response\", inplace=False)\n",
    "\n",
    "bins = np.arange(35)\n",
    "fig, ax = plt.subplots(figsize=(7, 3))\n",
    "ax = plot_ppc_discrete(idata_pps, bins, ax)\n",
    "ax.set_xlabel(\"Response category\")\n",
    "ax.set_ylabel(\"Count\")\n",
    "ax.set_title(\"Sequential model - Posterior Predictive Distribution\");"
   ]
  },
  {
   "cell_type": "markdown",
   "metadata": {},
   "source": [
    "## Summary\n",
    "\n",
    "This notebook demonstrated how to fit cumulative and sequential ordinal regression models using Bambi. Cumulative models focus on modeling the cumulative probabilities of an ordinal outcome variable taking on values up to and including a certain category, whereas a sequential model focuses on modeling the probability that an ordinal outcome variable stops at a particular category, rather than continuing to higher categories. To achieve this, both models assume that the reponse variable originates from a categorization of a latent continuous variable $Z$. However, the cumulative model assumes that there are $K$ thresholds $\\tau_k$ that partition $Z$ into $K+1$ observable, ordered categories of $Y$. The sequential model assumes that for every category $k$ there is a latent continuous variable $Z$ that determines the transition between categories $k$ and $k+1$; thus, a threshold $\\tau$ belongs to each latent process.\n",
    "\n",
    "Cumulative models can be used in situations where the outcome variable is on the Likert scale, and you are interested in understanding the impact of predictors on the probability of reaching or exceeding specific categories. Sequential models are particularly useful when you are interested in understanding the predictors that influence the decision to stop at a specific response level. It's well-suited for analyzing data where categories represent stages, and the focus is on the transitions between these stages."
   ]
  },
  {
   "cell_type": "code",
   "execution_count": 25,
   "metadata": {},
   "outputs": [
    {
     "name": "stdout",
     "output_type": "stream",
     "text": [
      "Last updated: Sat May 25 2024\n",
      "\n",
      "Python implementation: CPython\n",
      "Python version       : 3.11.9\n",
      "IPython version      : 8.24.0\n",
      "\n",
      "bambi     : 0.13.1.dev37+g2a54df76.d20240525\n",
      "arviz     : 0.18.0\n",
      "numpy     : 1.26.4\n",
      "matplotlib: 3.8.4\n",
      "pandas    : 2.2.2\n",
      "\n",
      "Watermark: 2.4.3\n",
      "\n"
     ]
    }
   ],
   "source": [
    "%load_ext watermark\n",
    "%watermark -n -u -v -iv -w"
   ]
  }
 ],
 "metadata": {
  "kernelspec": {
   "display_name": "Python [conda env:base] *",
   "language": "python",
   "name": "conda-base-py"
  },
  "language_info": {
   "codemirror_mode": {
    "name": "ipython",
    "version": 3
   },
   "file_extension": ".py",
   "mimetype": "text/x-python",
   "name": "python",
   "nbconvert_exporter": "python",
   "pygments_lexer": "ipython3",
   "version": "3.11.5"
  }
 },
 "nbformat": 4,
 "nbformat_minor": 4
}
